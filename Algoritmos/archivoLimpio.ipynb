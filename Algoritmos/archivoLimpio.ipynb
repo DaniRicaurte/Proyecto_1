{
 "cells": [
  {
   "cell_type": "markdown",
   "id": "4ad44b68",
   "metadata": {
    "tags": []
   },
   "source": [
    "# PROYECTO 1\n",
    "\n",
    "Encargado: Daniela Ricaurte - 201822966"
   ]
  },
  {
   "cell_type": "markdown",
   "id": "fcb36331",
   "metadata": {},
   "source": [
    "# # 1.  Instalación e importanción de librerías."
   ]
  },
  {
   "cell_type": "markdown",
   "id": "c78f9779",
   "metadata": {},
   "source": [
    "### Instalación de liberías"
   ]
  },
  {
   "cell_type": "code",
   "execution_count": 1,
   "id": "85b0b06d",
   "metadata": {},
   "outputs": [
    {
     "name": "stdout",
     "output_type": "stream",
     "text": [
      "Requirement already satisfied: contractions in /Users/Meli/opt/anaconda3/lib/python3.9/site-packages (0.1.72)\n",
      "Requirement already satisfied: textsearch>=0.0.21 in /Users/Meli/opt/anaconda3/lib/python3.9/site-packages (from contractions) (0.0.24)\n",
      "Requirement already satisfied: anyascii in /Users/Meli/opt/anaconda3/lib/python3.9/site-packages (from textsearch>=0.0.21->contractions) (0.3.1)\n",
      "Requirement already satisfied: pyahocorasick in /Users/Meli/opt/anaconda3/lib/python3.9/site-packages (from textsearch>=0.0.21->contractions) (1.4.4)\n"
     ]
    }
   ],
   "source": [
    "!pip install contractions"
   ]
  },
  {
   "cell_type": "code",
   "execution_count": 2,
   "id": "96ae45d4",
   "metadata": {},
   "outputs": [
    {
     "name": "stdout",
     "output_type": "stream",
     "text": [
      "Requirement already satisfied: inflect in /Users/Meli/opt/anaconda3/lib/python3.9/site-packages (6.0.0)\n",
      "Requirement already satisfied: pydantic in /Users/Meli/opt/anaconda3/lib/python3.9/site-packages (from inflect) (1.10.2)\n",
      "Requirement already satisfied: typing-extensions>=4.1.0 in /Users/Meli/opt/anaconda3/lib/python3.9/site-packages (from pydantic->inflect) (4.1.1)\n",
      "Requirement already satisfied: pandas-profiling==2.7.1 in /Users/Meli/opt/anaconda3/lib/python3.9/site-packages (2.7.1)\n",
      "Requirement already satisfied: pandas!=1.0.0,!=1.0.1,!=1.0.2,>=0.25.3 in /Users/Meli/opt/anaconda3/lib/python3.9/site-packages (from pandas-profiling==2.7.1) (1.4.2)\n",
      "Requirement already satisfied: confuse>=1.0.0 in /Users/Meli/opt/anaconda3/lib/python3.9/site-packages (from pandas-profiling==2.7.1) (2.0.0)\n",
      "Requirement already satisfied: astropy>=4.0 in /Users/Meli/opt/anaconda3/lib/python3.9/site-packages (from pandas-profiling==2.7.1) (5.0.4)\n",
      "Requirement already satisfied: scipy>=1.4.1 in /Users/Meli/opt/anaconda3/lib/python3.9/site-packages (from pandas-profiling==2.7.1) (1.7.3)\n",
      "Requirement already satisfied: numpy>=1.16.0 in /Users/Meli/opt/anaconda3/lib/python3.9/site-packages (from pandas-profiling==2.7.1) (1.21.5)\n",
      "Requirement already satisfied: missingno>=0.4.2 in /Users/Meli/opt/anaconda3/lib/python3.9/site-packages (from pandas-profiling==2.7.1) (0.5.1)\n",
      "Requirement already satisfied: visions[type_image_path]==0.4.1 in /Users/Meli/opt/anaconda3/lib/python3.9/site-packages (from pandas-profiling==2.7.1) (0.4.1)\n",
      "Requirement already satisfied: requests>=2.23.0 in /Users/Meli/opt/anaconda3/lib/python3.9/site-packages (from pandas-profiling==2.7.1) (2.27.1)\n",
      "Requirement already satisfied: htmlmin>=0.1.12 in /Users/Meli/opt/anaconda3/lib/python3.9/site-packages (from pandas-profiling==2.7.1) (0.1.12)\n",
      "Requirement already satisfied: matplotlib>=3.2.0 in /Users/Meli/opt/anaconda3/lib/python3.9/site-packages (from pandas-profiling==2.7.1) (3.5.1)\n",
      "Requirement already satisfied: phik>=0.9.10 in /Users/Meli/opt/anaconda3/lib/python3.9/site-packages (from pandas-profiling==2.7.1) (0.12.2)\n",
      "Requirement already satisfied: ipywidgets>=7.5.1 in /Users/Meli/opt/anaconda3/lib/python3.9/site-packages (from pandas-profiling==2.7.1) (7.6.5)\n",
      "Requirement already satisfied: tangled-up-in-unicode>=0.0.4 in /Users/Meli/opt/anaconda3/lib/python3.9/site-packages (from pandas-profiling==2.7.1) (0.2.0)\n",
      "Requirement already satisfied: jinja2>=2.11.1 in /Users/Meli/opt/anaconda3/lib/python3.9/site-packages (from pandas-profiling==2.7.1) (2.11.3)\n",
      "Requirement already satisfied: joblib in /Users/Meli/opt/anaconda3/lib/python3.9/site-packages (from pandas-profiling==2.7.1) (1.1.0)\n",
      "Requirement already satisfied: tqdm>=4.43.0 in /Users/Meli/opt/anaconda3/lib/python3.9/site-packages (from pandas-profiling==2.7.1) (4.64.0)\n",
      "Requirement already satisfied: networkx>=2.4 in /Users/Meli/opt/anaconda3/lib/python3.9/site-packages (from visions[type_image_path]==0.4.1->pandas-profiling==2.7.1) (2.7.1)\n",
      "Requirement already satisfied: attrs>=19.3.0 in /Users/Meli/opt/anaconda3/lib/python3.9/site-packages (from visions[type_image_path]==0.4.1->pandas-profiling==2.7.1) (21.4.0)\n",
      "Requirement already satisfied: imagehash in /Users/Meli/opt/anaconda3/lib/python3.9/site-packages (from visions[type_image_path]==0.4.1->pandas-profiling==2.7.1) (4.3.1)\n",
      "Requirement already satisfied: Pillow in /Users/Meli/opt/anaconda3/lib/python3.9/site-packages (from visions[type_image_path]==0.4.1->pandas-profiling==2.7.1) (9.0.1)\n",
      "Requirement already satisfied: pyerfa>=2.0 in /Users/Meli/opt/anaconda3/lib/python3.9/site-packages (from astropy>=4.0->pandas-profiling==2.7.1) (2.0.0)\n",
      "Requirement already satisfied: PyYAML>=3.13 in /Users/Meli/opt/anaconda3/lib/python3.9/site-packages (from astropy>=4.0->pandas-profiling==2.7.1) (6.0)\n",
      "Requirement already satisfied: packaging>=19.0 in /Users/Meli/opt/anaconda3/lib/python3.9/site-packages (from astropy>=4.0->pandas-profiling==2.7.1) (21.3)\n",
      "Requirement already satisfied: ipykernel>=4.5.1 in /Users/Meli/opt/anaconda3/lib/python3.9/site-packages (from ipywidgets>=7.5.1->pandas-profiling==2.7.1) (6.9.1)\n",
      "Requirement already satisfied: ipython-genutils~=0.2.0 in /Users/Meli/opt/anaconda3/lib/python3.9/site-packages (from ipywidgets>=7.5.1->pandas-profiling==2.7.1) (0.2.0)\n",
      "Requirement already satisfied: nbformat>=4.2.0 in /Users/Meli/opt/anaconda3/lib/python3.9/site-packages (from ipywidgets>=7.5.1->pandas-profiling==2.7.1) (5.3.0)\n",
      "Requirement already satisfied: traitlets>=4.3.1 in /Users/Meli/opt/anaconda3/lib/python3.9/site-packages (from ipywidgets>=7.5.1->pandas-profiling==2.7.1) (5.1.1)\n",
      "Requirement already satisfied: jupyterlab-widgets>=1.0.0 in /Users/Meli/opt/anaconda3/lib/python3.9/site-packages (from ipywidgets>=7.5.1->pandas-profiling==2.7.1) (1.0.0)\n",
      "Requirement already satisfied: widgetsnbextension~=3.5.0 in /Users/Meli/opt/anaconda3/lib/python3.9/site-packages (from ipywidgets>=7.5.1->pandas-profiling==2.7.1) (3.5.2)\n",
      "Requirement already satisfied: ipython>=4.0.0 in /Users/Meli/opt/anaconda3/lib/python3.9/site-packages (from ipywidgets>=7.5.1->pandas-profiling==2.7.1) (8.2.0)\n",
      "Requirement already satisfied: matplotlib-inline<0.2.0,>=0.1.0 in /Users/Meli/opt/anaconda3/lib/python3.9/site-packages (from ipykernel>=4.5.1->ipywidgets>=7.5.1->pandas-profiling==2.7.1) (0.1.2)\n",
      "Requirement already satisfied: nest-asyncio in /Users/Meli/opt/anaconda3/lib/python3.9/site-packages (from ipykernel>=4.5.1->ipywidgets>=7.5.1->pandas-profiling==2.7.1) (1.5.5)\n",
      "Requirement already satisfied: jupyter-client<8.0 in /Users/Meli/opt/anaconda3/lib/python3.9/site-packages (from ipykernel>=4.5.1->ipywidgets>=7.5.1->pandas-profiling==2.7.1) (6.1.12)\n",
      "Requirement already satisfied: appnope in /Users/Meli/opt/anaconda3/lib/python3.9/site-packages (from ipykernel>=4.5.1->ipywidgets>=7.5.1->pandas-profiling==2.7.1) (0.1.2)\n",
      "Requirement already satisfied: debugpy<2.0,>=1.0.0 in /Users/Meli/opt/anaconda3/lib/python3.9/site-packages (from ipykernel>=4.5.1->ipywidgets>=7.5.1->pandas-profiling==2.7.1) (1.5.1)\n",
      "Requirement already satisfied: tornado<7.0,>=4.2 in /Users/Meli/opt/anaconda3/lib/python3.9/site-packages (from ipykernel>=4.5.1->ipywidgets>=7.5.1->pandas-profiling==2.7.1) (6.1)\n",
      "Requirement already satisfied: setuptools>=18.5 in /Users/Meli/opt/anaconda3/lib/python3.9/site-packages (from ipython>=4.0.0->ipywidgets>=7.5.1->pandas-profiling==2.7.1) (61.2.0)\n",
      "Requirement already satisfied: jedi>=0.16 in /Users/Meli/opt/anaconda3/lib/python3.9/site-packages (from ipython>=4.0.0->ipywidgets>=7.5.1->pandas-profiling==2.7.1) (0.18.1)\n",
      "Requirement already satisfied: pickleshare in /Users/Meli/opt/anaconda3/lib/python3.9/site-packages (from ipython>=4.0.0->ipywidgets>=7.5.1->pandas-profiling==2.7.1) (0.7.5)\n",
      "Requirement already satisfied: decorator in /Users/Meli/opt/anaconda3/lib/python3.9/site-packages (from ipython>=4.0.0->ipywidgets>=7.5.1->pandas-profiling==2.7.1) (5.1.1)\n",
      "Requirement already satisfied: pexpect>4.3 in /Users/Meli/opt/anaconda3/lib/python3.9/site-packages (from ipython>=4.0.0->ipywidgets>=7.5.1->pandas-profiling==2.7.1) (4.8.0)\n",
      "Requirement already satisfied: backcall in /Users/Meli/opt/anaconda3/lib/python3.9/site-packages (from ipython>=4.0.0->ipywidgets>=7.5.1->pandas-profiling==2.7.1) (0.2.0)\n",
      "Requirement already satisfied: stack-data in /Users/Meli/opt/anaconda3/lib/python3.9/site-packages (from ipython>=4.0.0->ipywidgets>=7.5.1->pandas-profiling==2.7.1) (0.2.0)\n",
      "Requirement already satisfied: prompt-toolkit!=3.0.0,!=3.0.1,<3.1.0,>=2.0.0 in /Users/Meli/opt/anaconda3/lib/python3.9/site-packages (from ipython>=4.0.0->ipywidgets>=7.5.1->pandas-profiling==2.7.1) (3.0.20)\n",
      "Requirement already satisfied: pygments>=2.4.0 in /Users/Meli/opt/anaconda3/lib/python3.9/site-packages (from ipython>=4.0.0->ipywidgets>=7.5.1->pandas-profiling==2.7.1) (2.11.2)\n",
      "Requirement already satisfied: parso<0.9.0,>=0.8.0 in /Users/Meli/opt/anaconda3/lib/python3.9/site-packages (from jedi>=0.16->ipython>=4.0.0->ipywidgets>=7.5.1->pandas-profiling==2.7.1) (0.8.3)\n",
      "Requirement already satisfied: MarkupSafe>=0.23 in /Users/Meli/opt/anaconda3/lib/python3.9/site-packages (from jinja2>=2.11.1->pandas-profiling==2.7.1) (2.0.1)\n",
      "Requirement already satisfied: jupyter-core>=4.6.0 in /Users/Meli/opt/anaconda3/lib/python3.9/site-packages (from jupyter-client<8.0->ipykernel>=4.5.1->ipywidgets>=7.5.1->pandas-profiling==2.7.1) (4.9.2)\n",
      "Requirement already satisfied: python-dateutil>=2.1 in /Users/Meli/opt/anaconda3/lib/python3.9/site-packages (from jupyter-client<8.0->ipykernel>=4.5.1->ipywidgets>=7.5.1->pandas-profiling==2.7.1) (2.8.2)\n",
      "Requirement already satisfied: pyzmq>=13 in /Users/Meli/opt/anaconda3/lib/python3.9/site-packages (from jupyter-client<8.0->ipykernel>=4.5.1->ipywidgets>=7.5.1->pandas-profiling==2.7.1) (22.3.0)\n",
      "Requirement already satisfied: kiwisolver>=1.0.1 in /Users/Meli/opt/anaconda3/lib/python3.9/site-packages (from matplotlib>=3.2.0->pandas-profiling==2.7.1) (1.3.2)\n",
      "Requirement already satisfied: fonttools>=4.22.0 in /Users/Meli/opt/anaconda3/lib/python3.9/site-packages (from matplotlib>=3.2.0->pandas-profiling==2.7.1) (4.25.0)\n",
      "Requirement already satisfied: pyparsing>=2.2.1 in /Users/Meli/opt/anaconda3/lib/python3.9/site-packages (from matplotlib>=3.2.0->pandas-profiling==2.7.1) (3.0.4)\n",
      "Requirement already satisfied: cycler>=0.10 in /Users/Meli/opt/anaconda3/lib/python3.9/site-packages (from matplotlib>=3.2.0->pandas-profiling==2.7.1) (0.11.0)\n",
      "Requirement already satisfied: seaborn in /Users/Meli/opt/anaconda3/lib/python3.9/site-packages (from missingno>=0.4.2->pandas-profiling==2.7.1) (0.11.2)\n",
      "Requirement already satisfied: fastjsonschema in /Users/Meli/opt/anaconda3/lib/python3.9/site-packages (from nbformat>=4.2.0->ipywidgets>=7.5.1->pandas-profiling==2.7.1) (2.15.1)\n",
      "Requirement already satisfied: jsonschema>=2.6 in /Users/Meli/opt/anaconda3/lib/python3.9/site-packages (from nbformat>=4.2.0->ipywidgets>=7.5.1->pandas-profiling==2.7.1) (4.4.0)\n",
      "Requirement already satisfied: pyrsistent!=0.17.0,!=0.17.1,!=0.17.2,>=0.14.0 in /Users/Meli/opt/anaconda3/lib/python3.9/site-packages (from jsonschema>=2.6->nbformat>=4.2.0->ipywidgets>=7.5.1->pandas-profiling==2.7.1) (0.18.0)\n",
      "Requirement already satisfied: pytz>=2020.1 in /Users/Meli/opt/anaconda3/lib/python3.9/site-packages (from pandas!=1.0.0,!=1.0.1,!=1.0.2,>=0.25.3->pandas-profiling==2.7.1) (2021.3)\n",
      "Requirement already satisfied: ptyprocess>=0.5 in /Users/Meli/opt/anaconda3/lib/python3.9/site-packages (from pexpect>4.3->ipython>=4.0.0->ipywidgets>=7.5.1->pandas-profiling==2.7.1) (0.7.0)\n",
      "Requirement already satisfied: wcwidth in /Users/Meli/opt/anaconda3/lib/python3.9/site-packages (from prompt-toolkit!=3.0.0,!=3.0.1,<3.1.0,>=2.0.0->ipython>=4.0.0->ipywidgets>=7.5.1->pandas-profiling==2.7.1) (0.2.5)\n",
      "Requirement already satisfied: six>=1.5 in /Users/Meli/opt/anaconda3/lib/python3.9/site-packages (from python-dateutil>=2.1->jupyter-client<8.0->ipykernel>=4.5.1->ipywidgets>=7.5.1->pandas-profiling==2.7.1) (1.16.0)\n",
      "Requirement already satisfied: urllib3<1.27,>=1.21.1 in /Users/Meli/opt/anaconda3/lib/python3.9/site-packages (from requests>=2.23.0->pandas-profiling==2.7.1) (1.26.9)\n",
      "Requirement already satisfied: idna<4,>=2.5 in /Users/Meli/opt/anaconda3/lib/python3.9/site-packages (from requests>=2.23.0->pandas-profiling==2.7.1) (3.3)\n",
      "Requirement already satisfied: charset-normalizer~=2.0.0 in /Users/Meli/opt/anaconda3/lib/python3.9/site-packages (from requests>=2.23.0->pandas-profiling==2.7.1) (2.0.4)\n",
      "Requirement already satisfied: certifi>=2017.4.17 in /Users/Meli/opt/anaconda3/lib/python3.9/site-packages (from requests>=2.23.0->pandas-profiling==2.7.1) (2021.10.8)\n",
      "Requirement already satisfied: notebook>=4.4.1 in /Users/Meli/opt/anaconda3/lib/python3.9/site-packages (from widgetsnbextension~=3.5.0->ipywidgets>=7.5.1->pandas-profiling==2.7.1) (6.4.8)\n",
      "Requirement already satisfied: terminado>=0.8.3 in /Users/Meli/opt/anaconda3/lib/python3.9/site-packages (from notebook>=4.4.1->widgetsnbextension~=3.5.0->ipywidgets>=7.5.1->pandas-profiling==2.7.1) (0.13.1)\n",
      "Requirement already satisfied: argon2-cffi in /Users/Meli/opt/anaconda3/lib/python3.9/site-packages (from notebook>=4.4.1->widgetsnbextension~=3.5.0->ipywidgets>=7.5.1->pandas-profiling==2.7.1) (21.3.0)\n",
      "Requirement already satisfied: prometheus-client in /Users/Meli/opt/anaconda3/lib/python3.9/site-packages (from notebook>=4.4.1->widgetsnbextension~=3.5.0->ipywidgets>=7.5.1->pandas-profiling==2.7.1) (0.13.1)\n",
      "Requirement already satisfied: Send2Trash>=1.8.0 in /Users/Meli/opt/anaconda3/lib/python3.9/site-packages (from notebook>=4.4.1->widgetsnbextension~=3.5.0->ipywidgets>=7.5.1->pandas-profiling==2.7.1) (1.8.0)\n",
      "Requirement already satisfied: nbconvert in /Users/Meli/opt/anaconda3/lib/python3.9/site-packages (from notebook>=4.4.1->widgetsnbextension~=3.5.0->ipywidgets>=7.5.1->pandas-profiling==2.7.1) (6.4.4)\n",
      "Requirement already satisfied: argon2-cffi-bindings in /Users/Meli/opt/anaconda3/lib/python3.9/site-packages (from argon2-cffi->notebook>=4.4.1->widgetsnbextension~=3.5.0->ipywidgets>=7.5.1->pandas-profiling==2.7.1) (21.2.0)\n",
      "Requirement already satisfied: cffi>=1.0.1 in /Users/Meli/opt/anaconda3/lib/python3.9/site-packages (from argon2-cffi-bindings->argon2-cffi->notebook>=4.4.1->widgetsnbextension~=3.5.0->ipywidgets>=7.5.1->pandas-profiling==2.7.1) (1.15.0)\n",
      "Requirement already satisfied: pycparser in /Users/Meli/opt/anaconda3/lib/python3.9/site-packages (from cffi>=1.0.1->argon2-cffi-bindings->argon2-cffi->notebook>=4.4.1->widgetsnbextension~=3.5.0->ipywidgets>=7.5.1->pandas-profiling==2.7.1) (2.21)\n",
      "Requirement already satisfied: PyWavelets in /Users/Meli/opt/anaconda3/lib/python3.9/site-packages (from imagehash->visions[type_image_path]==0.4.1->pandas-profiling==2.7.1) (1.3.0)\n",
      "Requirement already satisfied: pandocfilters>=1.4.1 in /Users/Meli/opt/anaconda3/lib/python3.9/site-packages (from nbconvert->notebook>=4.4.1->widgetsnbextension~=3.5.0->ipywidgets>=7.5.1->pandas-profiling==2.7.1) (1.5.0)\n",
      "Requirement already satisfied: defusedxml in /Users/Meli/opt/anaconda3/lib/python3.9/site-packages (from nbconvert->notebook>=4.4.1->widgetsnbextension~=3.5.0->ipywidgets>=7.5.1->pandas-profiling==2.7.1) (0.7.1)\n",
      "Requirement already satisfied: beautifulsoup4 in /Users/Meli/opt/anaconda3/lib/python3.9/site-packages (from nbconvert->notebook>=4.4.1->widgetsnbextension~=3.5.0->ipywidgets>=7.5.1->pandas-profiling==2.7.1) (4.11.1)\n",
      "Requirement already satisfied: entrypoints>=0.2.2 in /Users/Meli/opt/anaconda3/lib/python3.9/site-packages (from nbconvert->notebook>=4.4.1->widgetsnbextension~=3.5.0->ipywidgets>=7.5.1->pandas-profiling==2.7.1) (0.4)\n",
      "Requirement already satisfied: jupyterlab-pygments in /Users/Meli/opt/anaconda3/lib/python3.9/site-packages (from nbconvert->notebook>=4.4.1->widgetsnbextension~=3.5.0->ipywidgets>=7.5.1->pandas-profiling==2.7.1) (0.1.2)\n",
      "Requirement already satisfied: bleach in /Users/Meli/opt/anaconda3/lib/python3.9/site-packages (from nbconvert->notebook>=4.4.1->widgetsnbextension~=3.5.0->ipywidgets>=7.5.1->pandas-profiling==2.7.1) (4.1.0)\n",
      "Requirement already satisfied: testpath in /Users/Meli/opt/anaconda3/lib/python3.9/site-packages (from nbconvert->notebook>=4.4.1->widgetsnbextension~=3.5.0->ipywidgets>=7.5.1->pandas-profiling==2.7.1) (0.5.0)\n",
      "Requirement already satisfied: nbclient<0.6.0,>=0.5.0 in /Users/Meli/opt/anaconda3/lib/python3.9/site-packages (from nbconvert->notebook>=4.4.1->widgetsnbextension~=3.5.0->ipywidgets>=7.5.1->pandas-profiling==2.7.1) (0.5.13)\n",
      "Requirement already satisfied: mistune<2,>=0.8.1 in /Users/Meli/opt/anaconda3/lib/python3.9/site-packages (from nbconvert->notebook>=4.4.1->widgetsnbextension~=3.5.0->ipywidgets>=7.5.1->pandas-profiling==2.7.1) (0.8.4)\n",
      "Requirement already satisfied: soupsieve>1.2 in /Users/Meli/opt/anaconda3/lib/python3.9/site-packages (from beautifulsoup4->nbconvert->notebook>=4.4.1->widgetsnbextension~=3.5.0->ipywidgets>=7.5.1->pandas-profiling==2.7.1) (2.3.1)\n",
      "Requirement already satisfied: webencodings in /Users/Meli/opt/anaconda3/lib/python3.9/site-packages (from bleach->nbconvert->notebook>=4.4.1->widgetsnbextension~=3.5.0->ipywidgets>=7.5.1->pandas-profiling==2.7.1) (0.5.1)\n",
      "Requirement already satisfied: executing in /Users/Meli/opt/anaconda3/lib/python3.9/site-packages (from stack-data->ipython>=4.0.0->ipywidgets>=7.5.1->pandas-profiling==2.7.1) (0.8.3)\n",
      "Requirement already satisfied: asttokens in /Users/Meli/opt/anaconda3/lib/python3.9/site-packages (from stack-data->ipython>=4.0.0->ipywidgets>=7.5.1->pandas-profiling==2.7.1) (2.0.5)\n",
      "Requirement already satisfied: pure-eval in /Users/Meli/opt/anaconda3/lib/python3.9/site-packages (from stack-data->ipython>=4.0.0->ipywidgets>=7.5.1->pandas-profiling==2.7.1) (0.2.2)\n"
     ]
    }
   ],
   "source": [
    "!pip install inflect\n",
    "!pip install pandas-profiling==2.7.1 "
   ]
  },
  {
   "cell_type": "code",
   "execution_count": 3,
   "id": "e3fb7fd6",
   "metadata": {},
   "outputs": [
    {
     "name": "stderr",
     "output_type": "stream",
     "text": [
      "[nltk_data] Downloading package punkt to /Users/Meli/nltk_data...\n",
      "[nltk_data]   Package punkt is already up-to-date!\n"
     ]
    },
    {
     "data": {
      "text/plain": [
       "True"
      ]
     },
     "execution_count": 3,
     "metadata": {},
     "output_type": "execute_result"
    }
   ],
   "source": [
    "import nltk\n",
    "nltk.download('punkt')"
   ]
  },
  {
   "cell_type": "code",
   "execution_count": 4,
   "id": "30a5ead7",
   "metadata": {},
   "outputs": [
    {
     "name": "stderr",
     "output_type": "stream",
     "text": [
      "[nltk_data] Downloading package stopwords to /Users/Meli/nltk_data...\n",
      "[nltk_data]   Package stopwords is already up-to-date!\n"
     ]
    },
    {
     "data": {
      "text/plain": [
       "True"
      ]
     },
     "execution_count": 4,
     "metadata": {},
     "output_type": "execute_result"
    }
   ],
   "source": [
    "nltk.download('stopwords')"
   ]
  },
  {
   "cell_type": "code",
   "execution_count": 5,
   "id": "64703a65",
   "metadata": {},
   "outputs": [
    {
     "name": "stderr",
     "output_type": "stream",
     "text": [
      "[nltk_data] Downloading package wordnet to /Users/Meli/nltk_data...\n",
      "[nltk_data]   Package wordnet is already up-to-date!\n"
     ]
    },
    {
     "data": {
      "text/plain": [
       "True"
      ]
     },
     "execution_count": 5,
     "metadata": {},
     "output_type": "execute_result"
    }
   ],
   "source": [
    "nltk.download('wordnet')"
   ]
  },
  {
   "cell_type": "markdown",
   "id": "2031af04",
   "metadata": {},
   "source": [
    "#### Importación de librerías"
   ]
  },
  {
   "cell_type": "code",
   "execution_count": 6,
   "id": "86eadf46",
   "metadata": {},
   "outputs": [],
   "source": [
    "import pandas as pd\n",
    "import numpy as np\n",
    "from nltk import pos_tag\n",
    "from nltk.corpus import stopwords\n",
    "from sklearn.preprocessing import LabelEncoder\n",
    "from collections import defaultdict\n",
    "from nltk.corpus import wordnet as wn\n",
    "from sklearn.feature_extraction.text import TfidfVectorizer\n",
    "from sklearn import model_selection, naive_bayes, svm\n",
    "from sklearn.metrics import accuracy_score\n",
    "\n",
    "import sys\n",
    "from pandas_profiling import ProfileReport\n",
    "\n",
    "import re, string, unicodedata\n",
    "import contractions\n",
    "import inflect\n",
    "from nltk import word_tokenize, sent_tokenize\n",
    "from nltk.stem import LancasterStemmer, WordNetLemmatizer\n",
    "\n",
    "from sklearn.model_selection import train_test_split,GridSearchCV\n",
    "from sklearn.feature_extraction.text import TfidfVectorizer, CountVectorizer, HashingVectorizer\n",
    "from sklearn.pipeline import Pipeline, FeatureUnion\n",
    "from sklearn.svm import SVC\n",
    "from sklearn.ensemble import BaggingClassifier, RandomForestClassifier, AdaBoostClassifier\n",
    "from sklearn.naive_bayes import BernoulliNB\n",
    "from sklearn.metrics import classification_report, confusion_matrix, plot_precision_recall_curve\n",
    "from sklearn.base import BaseEstimator, ClassifierMixin\n",
    "\n",
    "import matplotlib.pyplot as plt"
   ]
  },
  {
   "cell_type": "markdown",
   "id": "5a0c4ff7",
   "metadata": {},
   "source": [
    "## 2. Perfilamiento y entendimiento de los datos"
   ]
  },
  {
   "cell_type": "code",
   "execution_count": 7,
   "id": "dabe32f9",
   "metadata": {},
   "outputs": [],
   "source": [
    "np.random.seed(500)"
   ]
  },
  {
   "cell_type": "markdown",
   "id": "ba478b37",
   "metadata": {},
   "source": [
    "### Lectura de datos"
   ]
  },
  {
   "cell_type": "code",
   "execution_count": 8,
   "id": "b756281b",
   "metadata": {},
   "outputs": [],
   "source": [
    "df = pd.read_csv(\"SuicidiosProyecto.csv\",encoding='latin-1')"
   ]
  },
  {
   "cell_type": "markdown",
   "id": "3897d250",
   "metadata": {},
   "source": [
    "### Entendimiento de los datos"
   ]
  },
  {
   "cell_type": "code",
   "execution_count": 9,
   "id": "5a0cdae8",
   "metadata": {},
   "outputs": [
    {
     "data": {
      "text/plain": [
       "(195700, 3)"
      ]
     },
     "execution_count": 9,
     "metadata": {},
     "output_type": "execute_result"
    }
   ],
   "source": [
    "df.shape"
   ]
  },
  {
   "cell_type": "code",
   "execution_count": 10,
   "id": "7cd06a9f",
   "metadata": {},
   "outputs": [
    {
     "data": {
      "text/html": [
       "<div>\n",
       "<style scoped>\n",
       "    .dataframe tbody tr th:only-of-type {\n",
       "        vertical-align: middle;\n",
       "    }\n",
       "\n",
       "    .dataframe tbody tr th {\n",
       "        vertical-align: top;\n",
       "    }\n",
       "\n",
       "    .dataframe thead th {\n",
       "        text-align: right;\n",
       "    }\n",
       "</style>\n",
       "<table border=\"1\" class=\"dataframe\">\n",
       "  <thead>\n",
       "    <tr style=\"text-align: right;\">\n",
       "      <th></th>\n",
       "      <th>Unnamed: 0</th>\n",
       "      <th>text</th>\n",
       "      <th>class</th>\n",
       "    </tr>\n",
       "  </thead>\n",
       "  <tbody>\n",
       "    <tr>\n",
       "      <th>132749</th>\n",
       "      <td>235806</td>\n",
       "      <td>Not interestedYou can tell me I have so much t...</td>\n",
       "      <td>suicide</td>\n",
       "    </tr>\n",
       "    <tr>\n",
       "      <th>182994</th>\n",
       "      <td>93385</td>\n",
       "      <td>I'm 18, I get urges to hurt people and I want ...</td>\n",
       "      <td>suicide</td>\n",
       "    </tr>\n",
       "    <tr>\n",
       "      <th>178942</th>\n",
       "      <td>152563</td>\n",
       "      <td>And thus the moment of realization came I wast...</td>\n",
       "      <td>non-suicide</td>\n",
       "    </tr>\n",
       "    <tr>\n",
       "      <th>133692</th>\n",
       "      <td>83607</td>\n",
       "      <td>What do I do Finish my school work \\n\\nStay on...</td>\n",
       "      <td>non-suicide</td>\n",
       "    </tr>\n",
       "    <tr>\n",
       "      <th>128222</th>\n",
       "      <td>305149</td>\n",
       "      <td>Wish there was a way to kill myself without hu...</td>\n",
       "      <td>suicide</td>\n",
       "    </tr>\n",
       "  </tbody>\n",
       "</table>\n",
       "</div>"
      ],
      "text/plain": [
       "        Unnamed: 0                                               text  \\\n",
       "132749      235806  Not interestedYou can tell me I have so much t...   \n",
       "182994       93385  I'm 18, I get urges to hurt people and I want ...   \n",
       "178942      152563  And thus the moment of realization came I wast...   \n",
       "133692       83607  What do I do Finish my school work \\n\\nStay on...   \n",
       "128222      305149  Wish there was a way to kill myself without hu...   \n",
       "\n",
       "              class  \n",
       "132749      suicide  \n",
       "182994      suicide  \n",
       "178942  non-suicide  \n",
       "133692  non-suicide  \n",
       "128222      suicide  "
      ]
     },
     "metadata": {},
     "output_type": "display_data"
    }
   ],
   "source": [
    "display(df.sample(5))"
   ]
  },
  {
   "cell_type": "code",
   "execution_count": 11,
   "id": "0b904233",
   "metadata": {},
   "outputs": [
    {
     "data": {
      "text/plain": [
       "Unnamed: 0     int64\n",
       "text          object\n",
       "class         object\n",
       "dtype: object"
      ]
     },
     "execution_count": 11,
     "metadata": {},
     "output_type": "execute_result"
    }
   ],
   "source": [
    "df.dtypes"
   ]
  },
  {
   "cell_type": "code",
   "execution_count": 12,
   "id": "ba3a6304",
   "metadata": {},
   "outputs": [
    {
     "data": {
      "text/plain": [
       "non-suicide    110165\n",
       "suicide         85535\n",
       "Name: class, dtype: int64"
      ]
     },
     "execution_count": 12,
     "metadata": {},
     "output_type": "execute_result"
    }
   ],
   "source": [
    "df['class']. value_counts()"
   ]
  },
  {
   "cell_type": "code",
   "execution_count": 13,
   "id": "35248add",
   "metadata": {},
   "outputs": [
    {
     "data": {
      "text/plain": [
       "0"
      ]
     },
     "execution_count": 13,
     "metadata": {},
     "output_type": "execute_result"
    }
   ],
   "source": [
    "df['text'].isna().sum()"
   ]
  },
  {
   "cell_type": "markdown",
   "id": "62935fbc",
   "metadata": {},
   "source": [
    "### Entendimiento de los Datos"
   ]
  },
  {
   "cell_type": "code",
   "execution_count": 14,
   "id": "083f77c4",
   "metadata": {},
   "outputs": [],
   "source": [
    "#textos = df.copy()\n",
    "#textos['Conteo'] = [len(x) for x in textos['text']]\n",
    "#textos['Max'] = [[max([len(x) for x in i.split(' ')])][0] for i in textos['text']]\n",
    "#textos['Min'] = [[min([len(x) for x in i.split(' ')])][0] for i in textos['text']]\n",
    "\n",
    "# Se realiza un perfilamiento de los datos con la librería pandas profiling\n",
    "#ProfileReport(textos)"
   ]
  },
  {
   "cell_type": "markdown",
   "id": "43e04bf0",
   "metadata": {},
   "source": [
    "## 3. Preparación de datos"
   ]
  },
  {
   "cell_type": "markdown",
   "id": "5e21e631",
   "metadata": {},
   "source": [
    "### Limpieza de datos"
   ]
  },
  {
   "cell_type": "code",
   "execution_count": 15,
   "id": "a8ef3c26",
   "metadata": {},
   "outputs": [],
   "source": [
    "def to_lowercase(words):\n",
    "    \"\"\"Convert all characters to lowercase from list of tokenized words\"\"\"\n",
    "    new_words = []\n",
    "    for word in words:\n",
    "        new_word = word.lower()\n",
    "        new_words.append(new_word)\n",
    "    return new_words"
   ]
  },
  {
   "cell_type": "code",
   "execution_count": 16,
   "id": "7eeee5d9",
   "metadata": {},
   "outputs": [],
   "source": [
    " def remove_non_ascii(words):\n",
    "    \"\"\"Remove non-ASCII characters from list of tokenized words\"\"\"\n",
    "    new_words = []\n",
    "    for word in words:\n",
    "        new_word = unicodedata.normalize('NFKD', word).encode('ascii', 'ignore').decode('utf-8', 'ignore')\n",
    "        new_words.append(new_word)\n",
    "    return new_words"
   ]
  },
  {
   "cell_type": "code",
   "execution_count": 17,
   "id": "8bf8bac9",
   "metadata": {},
   "outputs": [],
   "source": [
    "def remove_punctuation(words):\n",
    "    \"\"\"Remove punctuation from list of tokenized words\"\"\"\n",
    "    new_words = []\n",
    "    for word in words:\n",
    "        new_word = re.sub(r'[^\\w\\s]', '', word)\n",
    "        if new_word != '':\n",
    "            new_words.append(new_word)\n",
    "    return new_words"
   ]
  },
  {
   "cell_type": "code",
   "execution_count": 18,
   "id": "19d2b969",
   "metadata": {},
   "outputs": [],
   "source": [
    "def remove_stopwords_and_non_alpha(words):\n",
    "    \"\"\"Remove stopwords from list of tokenized words\"\"\"\n",
    "    new_words = []\n",
    "    for word in words:\n",
    "        if word not in set(stopwords.words('english')) and word.isalpha():\n",
    "            new_words.append(word)\n",
    "    return new_words"
   ]
  },
  {
   "cell_type": "code",
   "execution_count": 19,
   "id": "62f7b51c",
   "metadata": {},
   "outputs": [],
   "source": [
    "def replace_numbers(words):\n",
    "    \"\"\"Replace all interger occurrences in list of tokenized words with textual representation\"\"\"\n",
    "    p = inflect.engine()\n",
    "    new_words = []\n",
    "    for word in words:\n",
    "        if word.isdigit():\n",
    "            new_word = p.number_to_words(word)\n",
    "            new_words.append(new_word)\n",
    "        else:\n",
    "            new_words.append(word)\n",
    "    return new_words"
   ]
  },
  {
   "cell_type": "code",
   "execution_count": 20,
   "id": "84a68ee0",
   "metadata": {},
   "outputs": [],
   "source": [
    "\n",
    "def remove_stopwords(words):\n",
    "    \"\"\"Remove stop words from list of tokenized words\"\"\"\n",
    "    stop_words = set(stopwords.words('english'))\n",
    "    new_words = []\n",
    "    for word in words:\n",
    "        if word not in stop_words and word.isalpha(): \n",
    "            new_words.append(word)\n",
    "    return new_words"
   ]
  },
  {
   "cell_type": "code",
   "execution_count": 21,
   "id": "53b5d30e",
   "metadata": {},
   "outputs": [],
   "source": [
    "def preprocessing(words):\n",
    "    words = to_lowercase(words)\n",
    "    words = remove_punctuation(words)\n",
    "    words = remove_non_ascii(words)\n",
    "    words = remove_stopwords(words)\n",
    "    return words"
   ]
  },
  {
   "cell_type": "markdown",
   "id": "eef71490",
   "metadata": {},
   "source": [
    "### Tokenización"
   ]
  },
  {
   "cell_type": "code",
   "execution_count": 22,
   "id": "40f452bb",
   "metadata": {},
   "outputs": [],
   "source": [
    "df['text'] = df['text'].apply(contractions.fix)"
   ]
  },
  {
   "cell_type": "code",
   "execution_count": 23,
   "id": "e4f8a5c9",
   "metadata": {},
   "outputs": [
    {
     "data": {
      "text/html": [
       "<div>\n",
       "<style scoped>\n",
       "    .dataframe tbody tr th:only-of-type {\n",
       "        vertical-align: middle;\n",
       "    }\n",
       "\n",
       "    .dataframe tbody tr th {\n",
       "        vertical-align: top;\n",
       "    }\n",
       "\n",
       "    .dataframe thead th {\n",
       "        text-align: right;\n",
       "    }\n",
       "</style>\n",
       "<table border=\"1\" class=\"dataframe\">\n",
       "  <thead>\n",
       "    <tr style=\"text-align: right;\">\n",
       "      <th></th>\n",
       "      <th>Unnamed: 0</th>\n",
       "      <th>text</th>\n",
       "      <th>class</th>\n",
       "      <th>words</th>\n",
       "    </tr>\n",
       "  </thead>\n",
       "  <tbody>\n",
       "    <tr>\n",
       "      <th>0</th>\n",
       "      <td>173271</td>\n",
       "      <td>i want to destroy myselffor once everything wa...</td>\n",
       "      <td>suicide</td>\n",
       "      <td>[want, destroy, myselffor, everything, startin...</td>\n",
       "    </tr>\n",
       "    <tr>\n",
       "      <th>1</th>\n",
       "      <td>336321</td>\n",
       "      <td>I kind of got behind schedule with learning fo...</td>\n",
       "      <td>non-suicide</td>\n",
       "      <td>[kind, got, behind, schedule, learning, next, ...</td>\n",
       "    </tr>\n",
       "    <tr>\n",
       "      <th>2</th>\n",
       "      <td>256637</td>\n",
       "      <td>I am just not sure anymoreFirst and foremost: ...</td>\n",
       "      <td>suicide</td>\n",
       "      <td>[sure, anymorefirst, foremost, brazil, judge, ...</td>\n",
       "    </tr>\n",
       "    <tr>\n",
       "      <th>3</th>\n",
       "      <td>303772</td>\n",
       "      <td>please give me a reason to liveThats too much ...</td>\n",
       "      <td>suicide</td>\n",
       "      <td>[please, give, reason, livethats, much, reason...</td>\n",
       "    </tr>\n",
       "    <tr>\n",
       "      <th>4</th>\n",
       "      <td>293747</td>\n",
       "      <td>27f struggling to find meaning moving forwardI...</td>\n",
       "      <td>suicide</td>\n",
       "      <td>[struggling, find, meaning, moving, forwardi, ...</td>\n",
       "    </tr>\n",
       "  </tbody>\n",
       "</table>\n",
       "</div>"
      ],
      "text/plain": [
       "   Unnamed: 0                                               text        class  \\\n",
       "0      173271  i want to destroy myselffor once everything wa...      suicide   \n",
       "1      336321  I kind of got behind schedule with learning fo...  non-suicide   \n",
       "2      256637  I am just not sure anymoreFirst and foremost: ...      suicide   \n",
       "3      303772  please give me a reason to liveThats too much ...      suicide   \n",
       "4      293747  27f struggling to find meaning moving forwardI...      suicide   \n",
       "\n",
       "                                               words  \n",
       "0  [want, destroy, myselffor, everything, startin...  \n",
       "1  [kind, got, behind, schedule, learning, next, ...  \n",
       "2  [sure, anymorefirst, foremost, brazil, judge, ...  \n",
       "3  [please, give, reason, livethats, much, reason...  \n",
       "4  [struggling, find, meaning, moving, forwardi, ...  "
      ]
     },
     "execution_count": 23,
     "metadata": {},
     "output_type": "execute_result"
    }
   ],
   "source": [
    "df['words'] = df['text'].apply(word_tokenize).apply(preprocessing) #Aplica la eliminación del ruido\n",
    "df.head()"
   ]
  },
  {
   "cell_type": "markdown",
   "id": "466d1c62",
   "metadata": {},
   "source": [
    "### Normalización"
   ]
  },
  {
   "cell_type": "code",
   "execution_count": 24,
   "id": "1a9b8772",
   "metadata": {},
   "outputs": [],
   "source": [
    "from nltk.stem import PorterStemmer\n",
    "from nltk.stem import WordNetLemmatizer"
   ]
  },
  {
   "cell_type": "code",
   "execution_count": 25,
   "id": "86bb7264",
   "metadata": {},
   "outputs": [
    {
     "data": {
      "text/html": [
       "<div>\n",
       "<style scoped>\n",
       "    .dataframe tbody tr th:only-of-type {\n",
       "        vertical-align: middle;\n",
       "    }\n",
       "\n",
       "    .dataframe tbody tr th {\n",
       "        vertical-align: top;\n",
       "    }\n",
       "\n",
       "    .dataframe thead th {\n",
       "        text-align: right;\n",
       "    }\n",
       "</style>\n",
       "<table border=\"1\" class=\"dataframe\">\n",
       "  <thead>\n",
       "    <tr style=\"text-align: right;\">\n",
       "      <th></th>\n",
       "      <th>Unnamed: 0</th>\n",
       "      <th>text</th>\n",
       "      <th>class</th>\n",
       "      <th>words</th>\n",
       "    </tr>\n",
       "  </thead>\n",
       "  <tbody>\n",
       "    <tr>\n",
       "      <th>0</th>\n",
       "      <td>173271</td>\n",
       "      <td>i want to destroy myselffor once everything wa...</td>\n",
       "      <td>suicide</td>\n",
       "      <td>[want, destroy, myselffor, everyth, start, fee...</td>\n",
       "    </tr>\n",
       "    <tr>\n",
       "      <th>1</th>\n",
       "      <td>336321</td>\n",
       "      <td>I kind of got behind schedule with learning fo...</td>\n",
       "      <td>non-suicide</td>\n",
       "      <td>[kind, got, behind, schedul, learn, next, week...</td>\n",
       "    </tr>\n",
       "    <tr>\n",
       "      <th>2</th>\n",
       "      <td>256637</td>\n",
       "      <td>I am just not sure anymoreFirst and foremost: ...</td>\n",
       "      <td>suicide</td>\n",
       "      <td>[sure, anymorefirst, foremost, brazil, judg, s...</td>\n",
       "    </tr>\n",
       "    <tr>\n",
       "      <th>3</th>\n",
       "      <td>303772</td>\n",
       "      <td>please give me a reason to liveThats too much ...</td>\n",
       "      <td>suicide</td>\n",
       "      <td>[pleas, give, reason, livethat, much, reason, ...</td>\n",
       "    </tr>\n",
       "    <tr>\n",
       "      <th>4</th>\n",
       "      <td>293747</td>\n",
       "      <td>27f struggling to find meaning moving forwardI...</td>\n",
       "      <td>suicide</td>\n",
       "      <td>[struggl, find, mean, move, forwardi, admit, b...</td>\n",
       "    </tr>\n",
       "  </tbody>\n",
       "</table>\n",
       "</div>"
      ],
      "text/plain": [
       "   Unnamed: 0                                               text        class  \\\n",
       "0      173271  i want to destroy myselffor once everything wa...      suicide   \n",
       "1      336321  I kind of got behind schedule with learning fo...  non-suicide   \n",
       "2      256637  I am just not sure anymoreFirst and foremost: ...      suicide   \n",
       "3      303772  please give me a reason to liveThats too much ...      suicide   \n",
       "4      293747  27f struggling to find meaning moving forwardI...      suicide   \n",
       "\n",
       "                                               words  \n",
       "0  [want, destroy, myselffor, everyth, start, fee...  \n",
       "1  [kind, got, behind, schedul, learn, next, week...  \n",
       "2  [sure, anymorefirst, foremost, brazil, judg, s...  \n",
       "3  [pleas, give, reason, livethat, much, reason, ...  \n",
       "4  [struggl, find, mean, move, forwardi, admit, b...  "
      ]
     },
     "execution_count": 25,
     "metadata": {},
     "output_type": "execute_result"
    }
   ],
   "source": [
    " def stem_words(words):\n",
    "    \"\"\"Stem words in list of tokenized words\"\"\"\n",
    "    stemmer=PorterStemmer() \n",
    "    # Se usa porter stemmer debido a que es una de las Eliminación de Prefijos y Sufijos mayormente usados ya que no es agresivo\n",
    "    # ya que es intuitivo e intuitivo.\n",
    "    \n",
    "    new_words = []\n",
    "    for word in words:\n",
    "        word_Final = str(stemmer.stem(word))\n",
    "        new_words.append(word_Final)\n",
    "    return new_words\n",
    "   \n",
    "\n",
    "def lemmatize_verbs(words):\n",
    "    \"\"\"Lemmatize verbs in list of tokenized words\"\"\"\n",
    "    \n",
    "    new_words = []\n",
    "    lemmatizer=WordNetLemmatizer()\n",
    "    for word in words:\n",
    "        word_Final = str(lemmatizer.lemmatize(word, pos='v'))\n",
    "        new_words.append(word_Final)\n",
    "    return new_words\n",
    "    \n",
    "    \n",
    "\n",
    "def stem_and_lemmatize(words):\n",
    "    stems = stem_words(words)\n",
    "    lemmas = lemmatize_verbs(words)\n",
    "    return stems + lemmas\n",
    "\n",
    "df['words'] = df['words'].apply(stem_and_lemmatize) #Aplica lematización y Eliminación de Prefijos y Sufijos.\n",
    "df.head()"
   ]
  },
  {
   "cell_type": "code",
   "execution_count": 26,
   "id": "2f0fdd68",
   "metadata": {},
   "outputs": [],
   "source": [
    "df_new=df\n",
    "df_new['words'] = df_new['words'].apply(lambda x: ' '.join(map(str, x)))\n",
    "df_new\n",
    "\n",
    "df_new.to_csv('SuicidiosProyectoFinal2.csv')"
   ]
  },
  {
   "cell_type": "code",
   "execution_count": 27,
   "id": "0ccbda15",
   "metadata": {},
   "outputs": [],
   "source": [
    "#dff = pd.read_csv(\"DatosSuicidio/SuicidiosProyectoFinal.csv\",encoding='latin-1')"
   ]
  },
  {
   "cell_type": "code",
   "execution_count": 28,
   "id": "6343b494",
   "metadata": {},
   "outputs": [],
   "source": [
    "#dff['words'].apply(word_tokenize)"
   ]
  },
  {
   "cell_type": "code",
   "execution_count": 29,
   "id": "01bf024e",
   "metadata": {},
   "outputs": [],
   "source": [
    "#dff.head()\n"
   ]
  },
  {
   "cell_type": "code",
   "execution_count": 30,
   "id": "0aa98188",
   "metadata": {},
   "outputs": [],
   "source": [
    "#dff.dtypes"
   ]
  },
  {
   "cell_type": "markdown",
   "id": "745f02a3",
   "metadata": {},
   "source": [
    "### Set de entreno y Set de prueba"
   ]
  },
  {
   "cell_type": "code",
   "execution_count": 31,
   "id": "62463539",
   "metadata": {},
   "outputs": [],
   "source": [
    "Train_X, Test_X, Train_Y, Test_Y = model_selection.train_test_split(df['words'],df['class'],test_size=0.3)"
   ]
  },
  {
   "cell_type": "markdown",
   "id": "f6321ec6",
   "metadata": {},
   "source": [
    "### Codificación de los datos"
   ]
  },
  {
   "cell_type": "code",
   "execution_count": 32,
   "id": "a362b43d",
   "metadata": {},
   "outputs": [],
   "source": [
    "Encoder = LabelEncoder()\n",
    "Train_Y = Encoder.fit_transform(Train_Y)\n",
    "Test_Y = Encoder.fit_transform(Test_Y)"
   ]
  },
  {
   "cell_type": "code",
   "execution_count": 33,
   "id": "e4d30512",
   "metadata": {},
   "outputs": [
    {
     "data": {
      "text/plain": [
       "117913    friend go take go buy sex toy good friend thin...\n",
       "62660     rememb time want dieth titl say realli pray di...\n",
       "9276      burden societyi disabl work reli tax tax evil ...\n",
       "49651     anyon chat iam desper bore convers wide variet...\n",
       "136070    imagin think hairstyl anim cross racist fuck h...\n",
       "                                ...                        \n",
       "47928     yup definit amp process img heheh yup definite...\n",
       "101131    want diei birthday come realiz get older noth ...\n",
       "16562     feel worst want overi feel like idiot continu ...\n",
       "72186     hate actual consid iti want yknow know futur n...\n",
       "34858     want end alliam useless piec shit want end all...\n",
       "Name: words, Length: 136990, dtype: object"
      ]
     },
     "execution_count": 33,
     "metadata": {},
     "output_type": "execute_result"
    }
   ],
   "source": [
    "Train_X"
   ]
  },
  {
   "cell_type": "markdown",
   "id": "8cd06784",
   "metadata": {},
   "source": [
    "### Vectorización de palabras\n",
    "Metodo usado: TF-IDF"
   ]
  },
  {
   "cell_type": "code",
   "execution_count": 34,
   "id": "c2f2b19d",
   "metadata": {},
   "outputs": [],
   "source": [
    "Tfidf_vect = TfidfVectorizer(max_features=5000)\n",
    "Tfidf_vect.fit(df['words'])\n",
    "Train_X_Tfidf = Tfidf_vect.transform(Train_X)\n",
    "Test_X_Tfidf = Tfidf_vect.transform(Test_X)"
   ]
  },
  {
   "cell_type": "code",
   "execution_count": 35,
   "id": "a61b4f7b",
   "metadata": {},
   "outputs": [
    {
     "name": "stdout",
     "output_type": "stream",
     "text": [
      "{'want': 4807, 'destroy': 1203, 'everyth': 1532, 'start': 4201, 'feel': 1668, 'okay': 3079, 'came': 664, 'donat': 1309, 'know': 2491, 'use': 4719, 'cope': 961, 'reason': 3601, 'iam': 2204, 'tear': 4396, 'skin': 4025, 'shred': 3969, 'swallow': 4350, 'everi': 1523, 'pill': 3289, 'find': 1706, 'right': 3737, 'alon': 158, 'room': 3756, 'wall': 4802, 'slowli': 4051, 'fall': 1621, 'ita': 2409, 'matter': 2736, 'time': 4506, 'snap': 4070, 'final': 1698, 'end': 1456, 'everything': 1533, 'come': 855, 'every': 1524, 'alone': 159, 'slowly': 4052, 'itas': 2413, 'finally': 1699, 'kind': 2474, 'got': 1916, 'behind': 452, 'schedul': 3826, 'learn': 2543, 'next': 2974, 'week': 4841, 'test': 4430, 'alreadi': 163, 'studi': 4269, 'good': 1909, 'minim': 2830, 'anyth': 227, 'yet': 4974, 'still': 4220, 'day': 1106, 'option': 3108, 'pull': 3506, 'tell': 4412, 'parent': 3183, 'freak': 1795, 'possibl': 3369, 'super': 4317, 'hard': 2021, 'get': 1883, 'schedule': 3827, 'already': 164, 'study': 4271, 'anything': 228, 'days': 1109, 'possible': 3370, 'sure': 4329, 'brazil': 586, 'judg': 2446, 'second': 3854, 'never': 2971, 'went': 4855, 'doctor': 1300, 'see': 3862, 'realli': 3598, 'form': 1772, 'depress': 1179, 'think': 4471, 'whatev': 4863, 'care': 684, 'anymor': 222, 'thing': 4469, 'someday': 4099, 'make': 2692, 'avoid': 352, 'suicid': 4306, 'fear': 1659, 'thank': 4436, 'anxieti': 215, 'cool': 959, 'scare': 3820, 'recent': 3609, 'read': 3585, 'random': 3562, 'shit': 3948, 'agre': 126, 'argument': 275, 'life': 2585, 'mean': 2747, 'like': 2597, 'sinc': 4001, 'sometim': 4107, 'fuck': 1824, 'peopl': 3234, 'around': 280, 'constantli': 933, 'hide': 2090, 'dark': 1098, 'though': 4475, 'mind': 2825, 'joke': 2442, 'believ': 455, 'die': 1224, 'sleep': 4038, 'worst': 4932, 'year': 4966, 'honestli': 2131, 'ps': 3486, 'talk': 4378, 'famili': 1626, 'hate': 2031, 'guy': 1987, 'take': 4372, 'put': 3522, 'dream': 1347, 'almost': 157, 'judge': 2447, 'go': 1899, 'really': 3599, 'depression': 1180, 'whatever': 4864, 'anymore': 223, 'suicide': 4309, 'anxiety': 216, 'scar': 3819, 'recently': 3610, 'agree': 127, 'since': 4002, 'sometimes': 4109, 'people': 3235, 'constantly': 934, 'believe': 456, 'honestly': 2132, 'family': 1629, 'pleas': 3320, 'give': 1892, 'much': 2898, 'live': 2616, 'alway': 172, 'inferior': 2303, 'anyon': 225, 'search': 3851, 'third': 4472, 'world': 4925, 'countri': 992, 'poor': 3356, 'broken': 608, 'home': 2119, 'child': 751, 'friend': 1809, 'problem': 3447, 'shitti': 3950, 'advic': 100, 'religi': 3662, 'bullshit': 635, 'better': 473, 'kill': 2472, 'contribut': 948, 'societi': 4082, 'futur': 1843, 'horribl': 2149, 'nobodi': 2990, 'love': 2659, 'stupid': 4275, 'ugli': 4638, 'least': 2544, 'mom': 2861, 'suffer': 4300, 'natur': 2931, 'fed': 1664, 'failur': 1612, 'sorri': 4125, 'grammar': 1930, 'english': 1470, 'first': 1712, 'languag': 2510, 'head': 2038, 'death': 1120, 'please': 3322, 'always': 173, 'anyone': 226, 'country': 994, 'break': 588, 'shitty': 3951, 'advice': 101, 'religious': 3664, 'society': 4083, 'future': 1844, 'horrible': 2150, 'nobody': 2991, 'ugly': 4639, 'nature': 2934, 'feed': 1666, 'failure': 1613, 'sorry': 4127, 'language': 2511, 'struggl': 4263, 'move': 2891, 'admit': 86, 'bit': 502, 'long': 2643, 'rant': 3568, 'manag': 2698, 'appreci': 263, 'anyway': 231, 'quit': 3542, 'includ': 2278, 'ask': 296, 'truli': 4605, 'morn': 2876, 'two': 4632, 'albeit': 144, 'answer': 210, 'pursu': 3517, 'career': 685, 'write': 4949, 'idea': 2211, 'girl': 1888, 'high': 2091, 'school': 3831, 'decid': 1132, 'one': 3085, 'true': 4604, 'earn': 1387, 'degre': 1157, 'post': 3372, 'work': 4922, 'onlin': 3088, 'success': 4292, 'graduat': 1927, 'averag': 350, 'littl': 2614, 'project': 3466, 'pandem': 3172, 'hit': 2106, 'incom': 2280, 'complet': 880, 'hire': 2103, 'june': 2455, 'meet': 2772, 'march': 2712, 'forward': 1783, 'wonder': 4917, 'heck': 2065, 'even': 1517, 'left': 2551, 'whole': 4883, 'made': 2683, 'decis': 1134, 'month': 2870, 'ago': 123, 'appli': 255, 'regular': 3638, 'old': 3080, 'job': 2435, 'crush': 1053, 'dislik': 1270, 'purpos': 3515, 'hour': 2166, 'pour': 3380, 'soul': 4130, 'imagin': 2245, 'side': 3981, 'may': 2741, 'energi': 1463, 'depend': 1177, 'land': 2508, 'unfortun': 4672, 'less': 2564, 'date': 1103, 'social': 4079, 'gay': 1865, 'harder': 2022, 'also': 166, 'tri': 4593, 'explain': 1581, 'financi': 1703, 'stabl': 4186, 'needless': 2951, 'say': 3815, 'found': 1786, 'probabl': 3445, 'childish': 753, 'guilti': 1982, 'essenti': 1502, 'enough': 1474, 'realiti': 3593, 'bare': 401, 'function': 1834, 'new': 2972, 'either': 1422, 'howev': 2171, 'quickli': 3537, 'wake': 4800, 'apart': 237, 'bed': 438, 'need': 2949, 'actual': 73, 'control': 950, 'suck': 4295, 'faster': 1645, 'handl': 2006, 'struggle': 4264, 'bite': 504, 'manage': 2699, 'appreciate': 264, 'quite': 3543, 'things': 4470, 'include': 2279, 'friends': 1813, 'truly': 4606, 'morning': 2877, 'pursue': 3518, 'decide': 1133, 'degree': 1158, 'online': 3089, 'successful': 4293, 'years': 4968, 'graduate': 1928, 'average': 351, 'little': 2615, 'pandemic': 3173, 'income': 2281, 'completely': 882, 'leave': 2546, 'decision': 1135, 'apply': 259, 'dislike': 1271, 'purpose': 3516, 'hours': 2167, 'imagine': 2246, 'energy': 1464, 'unfortunately': 4673, 'try': 4610, 'financially': 1705, 'stable': 4187, 'needle': 2950, 'probably': 3446, 'guilty': 1983, 'reality': 3594, 'barely': 402, 'however': 2172, 'quickly': 3538, 'apartment': 238, 'actually': 74, 'handle': 2007, 'leta': 2569, 'bread': 587, 'store': 4230, 'letas': 2570, 'fun': 1833, 'fact': 1606, 'everyday': 1527, 'forget': 1767, 'bore': 555, 'fell': 1670, 'tunnel': 4618, 'center': 711, 'earth': 1389, 'would': 4939, 'minut': 2834, 'trip': 4597, 'planet': 3311, 'reach': 3582, 'maximum': 2740, 'speed': 4154, 'halfway': 1998, 'nice': 2977, 'facts': 1608, 'minutes': 2836, 'complete': 881, 'brother': 609, 'self': 3872, 'help': 2073, 'older': 3081, 'past': 3203, 'deal': 1114, 'termin': 4423, 'ill': 2237, 'father': 1649, 'wit': 4907, 'lot': 2656, 'flame': 1720, 'difficulti': 1232, 'situat': 4014, 'dad': 1083, 'diagnos': 1218, 'age': 120, 'way': 4821, 'easier': 1393, 'seriou': 3897, 'matur': 2737, 'younger': 4987, 'fought': 1785, 'often': 3075, 'physic': 3274, 'intens': 2360, 'punch': 3508, 'face': 1601, 'bleed': 518, 'serious': 3898, 'injur': 2315, 'part': 3185, 'short': 3956, 'temper': 4413, 'fix': 1717, 'screw': 3844, 'sever': 3911, 'adhd': 84, 'kid': 2469, 'someth': 4105, 'pick': 3280, 'call': 662, 'yell': 4969, 'back': 375, 'sick': 3979, 'accept': 41, 'someon': 4101, 'flunk': 1741, 'twice': 4627, 'everyon': 1528, 'similar': 3994, 'experi': 1577, 'took': 4540, 'mask': 2722, 'singl': 4006, 'insecur': 2327, 'cut': 1077, 'razor': 3581, 'blade': 509, 'stop': 4229, 'therapist': 4450, 'inner': 2319, 'thigh': 4466, 'stomach': 4226, 'accord': 48, 'mother': 2882, 'clue': 826, 'approach': 265, 'hint': 2101, 'look': 2647, 'valid': 4741, 'narcissist': 2923, 'piec': 3285, 'legitim': 2557, 'fault': 1651, 'fight': 1686, 'excel': 1552, 'educ': 1410, 'wish': 4906, 'amp': 189, 'witness': 4912, 'financial': 1704, 'situation': 4015, 'diagnose': 1219, 'mature': 2738, 'physical': 3275, 'intense': 2361, 'seriously': 3899, 'injure': 2316, 'physically': 3276, 'severe': 3913, 'something': 4106, 'minute': 2835, 'someone': 4102, 'everyone': 1529, 'experience': 1579, 'single': 4007, 'months': 2871, 'narcissistic': 2924, 'piece': 3286, 'legitimately': 2558, 'brothers': 610, 'education': 1412, 'women': 4915, 'group': 1967, 'hey': 2086, 'watch': 4818, 'coupl': 995, 'across': 64, 'togeth': 4523, 'particular': 3191, 'curiou': 1065, 'excus': 1559, 'sort': 4128, 'privat': 3439, 'hurt': 2194, 'question': 3534, 'couple': 996, 'girls': 1891, 'together': 4524, 'curious': 1066, 'excuse': 1560, 'private': 3440, 'hurtful': 2195, 'pride': 3427, 'forgot': 1770, 'weekend': 4842, 'crap': 1016, 'damn': 1092, 'bust': 650, 'ah': 128, 'said': 3798, 'instead': 2348, 'cock': 833, 'bulli': 634, 'lol': 2636, 'bully': 636, 'coffe': 837, 'grand': 1931, 'ice': 2208, 'cup': 1063, 'extra': 1595, 'classic': 796, 'boom': 548, 'sweet': 4353, 'youar': 4982, 'isnat': 2403, 'basic': 410, 'sugar': 4303, 'tast': 4386, 'amaz': 174, 'welcom': 4851, 'coffee': 838, 'youare': 4983, 'basically': 411, 'taste': 4387, 'amaze': 175, 'welcome': 4852, 'gener': 1872, 'hello': 2072, 'comment': 860, 'award': 358, 'gotten': 1917, 'general': 1873, 'passiv': 3200, 'suicidali': 4308, 'sound': 4131, 'dramat': 1340, 'pretti': 3418, 'whenev': 4869, 'rang': 3565, 'method': 2801, 'imag': 2243, 'dead': 1111, 'variou': 4749, 'caus': 699, 'plan': 3309, 'place': 3305, 'current': 1068, 'carri': 687, 'anytim': 229, 'soon': 4117, 'keep': 2464, 'pocket': 3335, 'ideat': 2214, 'becom': 436, 'hospit': 2156, 'certain': 713, 'burden': 640, 'aliv': 152, 'usual': 4726, 'big': 483, 'pain': 3162, 'event': 1518, 'terribl': 4424, 'mental': 2785, 'suicidal': 4307, 'dramatic': 1341, 'pretty': 3419, 'whenever': 4870, 'range': 3566, 'methods': 2802, 'image': 2244, 'various': 4750, 'cause': 700, 'currently': 1069, 'carry': 688, 'anytime': 230, 'become': 437, 'hospital': 2157, 'alive': 153, 'usually': 4727, 'painful': 3163, 'terrible': 4425, 'illnesses': 2241, 'therea': 4453, 'havenat': 2035, 'done': 1311, 'worri': 4926, 'tonight': 4537, 'sad': 3789, 'iav': 2205, 'miss': 2844, 'fulfil': 1829, 'teenag': 4406, 'well': 4853, 'iad': 2202, 'satisfi': 3810, 'mayb': 2742, 'given': 1893, 'real': 3588, 'wouldnat': 4942, 'could': 981, 'stereotyp': 4217, 'girlfriend': 1889, 'blah': 510, 'bitch': 503, 'simpli': 3998, 'hold': 2113, 'guess': 1976, 'thata': 4441, 'relat': 3647, 'thereas': 4454, 'do': 1298, 'worry': 4927, 'iave': 2206, 'teenage': 4407, 'satisfy': 3811, 'maybe': 2743, 'simply': 3999, 'thatas': 4442, 'relate': 3648, 'trigger': 4596, 'warn': 4812, 'inspir': 2338, 'rape': 3570, 'moment': 2862, 'cum': 1061, 'dick': 1222, 'inspire': 2339, 'tire': 4512, 'worth': 4933, 'iti': 2417, 'longer': 2644, 'joy': 2445, 'seem': 3866, 'dull': 1371, 'point': 3339, 'rather': 3576, 'bother': 561, 'movement': 2892, 'swim': 4355, 'sore': 4124, 'close': 817, 'brain': 580, 'small': 4056, 'bad': 384, 'stand': 4196, 'without': 4911, 'split': 4167, 'middl': 2811, 'crippl': 1042, 'ex': 1543, 'middle': 2812, 'cripple': 1043, 'covid': 1005, 'stuck': 4266, 'stick': 4218, 'birthday': 499, 'darker': 1099, 'liter': 2611, 'turn': 4620, 'februari': 1662, 'memori': 2781, 'movi': 2893, 'race': 3548, 'honest': 2129, 'wonat': 4916, 'sit': 4012, 'ran': 3561, 'grab': 1922, 'arm': 277, 'cri': 1036, 'car': 681, 'lock': 2630, 'insid': 2331, 'finish': 1709, 'window': 4897, 'open': 3093, 'rememb': 3668, 'concret': 899, 'aa': 0, 'belt': 459, 'mark': 2715, 'scream': 3841, 'dare': 1097, 'promis': 3469, 'relax': 3653, 'tv': 4622, 'couldnat': 984, 'spend': 4156, 'none': 2996, 'text': 4431, 'happi': 2013, 'last': 2518, 'heard': 2052, 'id': 2209, 'card': 683, 'display': 1277, 'popular': 3361, 'chat': 734, 'knew': 2485, 'fill': 1691, 'swear': 4351, 'violenc': 4773, 'angri': 193, 'brought': 611, 'harm': 2027, 'burn': 643, 'tie': 4500, 'fish': 1713, 'tank': 4381, 'tube': 4613, 'whip': 4876, 'meant': 2751, 'univers': 4685, 'fail': 1611, 'repeat': 3678, 'wast': 4816, 'money': 2866, 'determin': 1210, 'drive': 1354, 'count': 989, 'till': 4505, 'demon': 1169, 'win': 4895, 'literally': 2613, 'february': 1663, 'memory': 2783, 'movies': 2895, 'strip': 4253, 'run': 3779, 'cry': 1054, 'inside': 2332, 'movie': 2894, 'windows': 4898, 'remember': 3669, 'concrete': 900, 'promise': 3470, 'texted': 4432, 'happy': 2019, 'hear': 2051, 'violence': 4774, 'angry': 194, 'bring': 603, 'memories': 2782, 'university': 4687, 'waste': 4817, 'demons': 1170, 'extrem': 1596, 'junior': 2456, 'three': 4485, 'wors': 4928, 'major': 2690, 'effort': 1415, 'grade': 1925, 'mostli': 2880, 'sob': 4076, 'deepli': 1146, 'cold': 842, 'distant': 1284, 'asham': 291, 'exist': 1565, 'strive': 4254, 'traumat': 4585, 'noth': 3013, 'interest': 2368, 'secretli': 3856, 'weak': 4824, 'vulner': 4795, 'perhap': 3245, 'partial': 3187, 'desir': 1190, 'relationship': 3649, 'smile': 4064, 'guilt': 1981, 'produc': 3453, 'potenti': 3376, 'aw': 353, 'legal': 2553, 'connect': 915, 'enjoy': 1471, 'anim': 196, 'psychopath': 3497, 'label': 2498, 'follow': 1751, 'leav': 2545, 'worthwhil': 4936, 'hang': 2009, 'hope': 2140, 'chang': 722, 'forev': 1765, 'exhaust': 1564, 'extremely': 1598, 'worse': 4929, 'mostly': 2881, 'deeply': 1147, 'ashamed': 292, 'existence': 1566, 'traumatic': 4586, 'nothing': 3015, 'problems': 3448, 'secretly': 3857, 'vulnerable': 4796, 'perhaps': 3246, 'partially': 3188, 'desire': 1191, 'relationships': 3650, 'produce': 3454, 'potential': 3377, 'awful': 364, 'connections': 917, 'animals': 198, 'worthwhile': 4937, 'anyways': 232, 'change': 723, 'forever': 1766, 'mani': 2702, 'happen': 2011, 'doom': 1314, 'fate': 1648, 'many': 2709, 'happiness': 2018, 'hospitals': 2159, 'sent': 3888, 'pictur': 3283, 'bunch': 639, 'screen': 3842, 'shot': 3960, 'gf': 1884, 'shea': 3934, 'mad': 2682, 'send': 3882, 'picture': 3284, 'sheas': 3937, 'boi': 538, 'mouth': 2890, 'zone': 4998, 'prove': 3482, 'bf': 477, 'tip': 4511, 'ye': 4963, 'ik': 2236, 'plot': 3328, 'lmao': 2620, 'fr': 1789, 'bois': 540, 'yes': 4972, 'anime': 199, 'grip': 1961, 'thought': 4476, 'consum': 936, 'bone': 543, 'ach': 53, 'childhood': 752, 'great': 1948, 'teen': 4405, 'earli': 1384, 'twenti': 4625, 'spent': 4157, 'adventur': 98, 'travel': 4588, 'parti': 3186, 'best': 469, 'funniest': 1839, 'ever': 1522, 'known': 2495, 'attract': 333, 'silli': 3991, 'person': 3255, 'crazi': 1022, 'total': 4551, 'impress': 2263, 'pregnant': 3401, 'children': 754, 'boyfriend': 574, 'besid': 466, 'excit': 1557, 'hat': 2030, 'babi': 372, 'oh': 3076, 'beauti': 432, 'wild': 4893, 'passion': 3197, 'full': 1830, 'perfect': 3240, 'husband': 2196, 'provid': 3483, 'us': 4717, 'stay': 4210, 'wife': 4891, 'organ': 3114, 'lesson': 2566, 'play': 3316, 'vaccin': 4735, 'debat': 1122, 'develop': 1214, 'drug': 1361, 'resist': 3699, 'medic': 2761, 'straight': 4235, 'jealou': 2429, 'afraid': 110, 'hell': 2070, 'wrote': 4953, 'asshol': 305, 'consume': 937, 'ache': 54, 'early': 1386, 'adventure': 99, 'attractive': 334, 'silly': 3992, 'personality': 3258, 'crazy': 1023, 'totally': 4552, 'beside': 467, 'baby': 373, 'beautiful': 433, 'passionate': 3198, 'provide': 3484, 'lessons': 2567, 'debate': 1123, 'medicate': 2763, 'jealous': 2430, 'nothingness': 3016, 'asshole': 306, 'edgi': 1407, 'man': 2697, 'cring': 1040, 'edgy': 1408, 'cringe': 1041, 'american': 183, 'meme': 2779, 'protest': 3480, 'americans': 184, 'memes': 2780, 'didnat': 1223, 'miser': 2840, 'strength': 4246, 'toler': 4529, 'canat': 671, 'frustrat': 1820, 'share': 3930, 'miserable': 2841, 'frustrate': 1821, 'opinion': 3097, 'sub': 4280, 'karma': 2463, 'whore': 4886, 'filler': 1692, 'awesom': 362, 'show': 3966, 'far': 1639, 'af': 104, 'today': 4519, 'awesome': 363, 'video': 4766, 'edit': 1409, 'free': 1796, 'credit': 1031, 'videos': 4769, 'pog': 3338, 'god': 1902, 'jesu': 2432, 'christ': 773, 'walk': 4801, 'name': 2921, 'aif': 134, 'shut': 3973, 'iall': 2203, 'youa': 4979, 'fast': 1644, 'note': 3012, 'figur': 1687, 'trick': 4595, 'jesus': 2433, 'figure': 1688, 'bruh': 615, 'chain': 716, 'aaaaa': 3, 'aaaaaa': 4, 'aaaaaaaa': 6, 'aaaaaaaaaaaaaaaaaaaa': 16, 'aaa': 1, 'aaaaaaa': 5, 'line': 2602, 'bee': 440, 'wow': 4944, 'blue': 530, 'box': 572, 'flower': 1739, 'reddit': 3623, 'email': 1429, 'lost': 2655, 'account': 49, 'lose': 2652, 'blew': 520, 'abus': 34, 'homeless': 2120, 'verbal': 4755, 'pretend': 3417, 'rough': 3765, 'attempt': 327, 'phone': 3270, 'canada': 669, 'thanksgiv': 4439, 'told': 4528, 'downstair': 1328, 'ado': 87, 'seed': 3863, 'top': 4543, 'annoy': 203, 'tabl': 4367, 'yard': 4961, 'usa': 4718, 'clear': 802, 'calm': 663, 'word': 4921, 'theyar': 4460, 'kick': 2468, 'anger': 192, 'phase': 3266, 'state': 4204, 'quiet': 3539, 'loud': 2657, 'neighbour': 2958, 'proof': 3473, 'theyav': 4462, 'taken': 4373, 'murder': 2902, 'knife': 2486, 'stab': 4184, 'yeah': 4965, 'convinc': 955, 'might': 2814, 'lie': 2584, 'stori': 4231, 'easi': 1392, 'power': 3383, 'blow': 529, 'abusive': 36, 'abuse': 35, 'thanksgiving': 4440, 'downstairs': 1329, 'table': 4368, 'theyare': 4461, 'theyave': 4463, 'convince': 956, 'story': 4234, 'thoughts': 4477, 'easy': 1398, 'catch': 697, 'clearli': 803, 'ways': 4822, 'besides': 468, 'clearly': 804, 'pass': 3196, 'join': 2439, 'decemb': 1129, 'suddenli': 4297, 'away': 360, 'fatal': 1647, 'accid': 44, 'shatter': 3932, 'loss': 2654, 'sell': 3878, 'busi': 648, 'slack': 4033, 'els': 1427, 'hardest': 2023, 'deterior': 1208, 'ie': 2223, 'weight': 4847, 'abl': 23, 'whatsoev': 4866, 'direct': 1238, 'effect': 1413, 'night': 2981, 'insan': 2325, 'obvious': 3050, 'expect': 1571, 'ok': 3078, 'simpl': 3996, 'shortli': 3958, 'prior': 3435, 'distract': 1285, 'contact': 938, 'saw': 3814, 'contempl': 940, 'sheer': 3939, 'commit': 861, 'unbear': 4653, 'trap': 4582, 'sens': 3884, 'isol': 2404, 'loneli': 2639, 'hardli': 2024, 'sudden': 4296, 'absolut': 29, 'insist': 2336, 'directli': 1240, 'push': 3519, 'truth': 4609, 'understand': 4663, 'ideal': 2212, 'object': 3043, 'react': 3583, 'imposs': 2259, 'closest': 819, 'gone': 1908, 'pistol': 3298, 'selfish': 3876, 'december': 1130, 'suddenly': 4298, 'accident': 45, 'business': 649, 'else': 1428, 'deteriorate': 1209, 'able': 24, 'whatsoever': 4867, 'obviously': 3051, 'simple': 3997, 'shortly': 3959, 'contemplate': 941, 'unbearable': 4654, 'sense': 3885, 'isolation': 2406, 'loneliness': 2640, 'hardly': 2025, 'absolutely': 31, 'directly': 1241, 'impossible': 2260, 'decisions': 1136, 'familiar': 1627, 'comfort': 856, 'disturb': 1290, 'idiot': 2221, 'oblig': 3044, 'bettera': 474, 'realiz': 3595, 'mess': 2792, 'worker': 4923, 'wait': 4799, 'readi': 3586, 'mentally': 2786, 'realization': 3596, 'ones': 3086, 'ready': 3587, 'boy': 573, 'creatur': 1030, 'easili': 1395, 'compliment': 886, 'lifetim': 2592, 'flirt': 1733, 'doesnat': 1302, 'wear': 4829, 'boys': 576, 'easily': 1396, 'lifetime': 2593, 'personally': 3259, 'weare': 4830, 'upload': 4708, 'rteenag': 3772, 'mod': 2854, 'ban': 395, 'photo': 3271, 'cuz': 1079, 'yesterday': 4973, 'remov': 3674, 'ride': 3734, 'bike': 486, 'outsid': 3133, 'activ': 67, 'paid': 3161, 'click': 807, 'rteenagers': 3773, 'mods': 2859, 'photos': 3272, 'remove': 3675, 'outside': 3134, 'activity': 71, 'pay': 3213, 'nbsp': 2937, 'therapi': 4449, 'subreddit': 4285, 'gather': 1863, 'arriv': 283, 'august': 336, 'semest': 3879, 'bomb': 541, 'class': 795, 'mainli': 2687, 'due': 1370, 'symptom': 4361, 'resourc': 3703, 'weekli': 4843, 'goal': 1900, 'set': 3907, 'professor': 3460, 'assign': 308, 'hair': 1995, 'grow': 1968, 'game': 1850, 'six': 4017, 'result': 3719, 'engag': 1465, 'behavior': 450, 'certainli': 714, 'limit': 2601, 'skip': 4028, 'bing': 490, 'eat': 1399, 'brows': 613, 'excess': 1554, 'cours': 999, 'aid': 133, 'choic': 763, 'drop': 1357, 'shame': 3928, 'embarrass': 1430, 'dropout': 1358, 'among': 186, 'neither': 2959, 'support': 4322, 'health': 2045, 'colleg': 846, 'student': 4267, 'son': 4113, 'chronic': 777, 'lead': 2536, 'consequ': 922, 'initi': 2313, 'romant': 3753, 'maintain': 2689, 'entir': 1478, 'solid': 4091, 'focu': 1745, 'somewhat': 4110, 'altern': 169, 'transfer': 4573, 'anoth': 208, 'establish': 1504, 'strong': 4256, 'appeal': 250, 'chanc': 720, 'prefer': 3399, 'aspir': 301, 'tomorrow': 4534, 'intend': 2359, 'remain': 3666, 'shave': 3933, 'poem': 3337, 'letter': 2572, 'listen': 2610, 'mass': 2723, 'lil': 2599, 'music': 2905, 'playlist': 3318, 'ladi': 2502, 'normal': 3007, 'hella': 2071, 'especi': 1499, 'overwatch': 3150, 'dragon': 1337, 'bottl': 562, 'coke': 841, 'confid': 905, 'sophomor': 4122, 'season': 3852, 'theme': 4445, 'http': 2175, 'episod': 1488, 'deni': 1171, 'beat': 430, 'haunt': 2034, 'present': 3411, 'press': 3414, 'regret': 3637, 'version': 4759, 'black': 507, 'secret': 3855, 'circl': 784, 'express': 1591, 'juic': 2450, 'oppress': 3104, 'borrow': 558, 'hospitalize': 2158, 'medications': 2765, 'therapy': 4452, 'arrive': 284, 'semester': 3880, 'mainly': 2688, 'symptoms': 4362, 'resources': 3704, 'weekly': 4844, 'assignment': 309, 'weeks': 4845, 'actively': 69, 'engage': 1466, 'certainly': 715, 'binge': 491, 'browse': 614, 'course': 1000, 'choice': 764, 'embarrassment': 1431, 'supportive': 4323, 'college': 847, 'romantic': 3754, 'entirely': 1480, 'focus': 1746, 'another': 209, 'chance': 721, 'lady': 2504, 'normally': 3008, 'especially': 1500, 'bottle': 563, 'confidence': 907, 'sophomore': 4123, 'https': 2176, 'episode': 1489, 'deny': 1174, 'circle': 785, 'lovely': 2660, 'juice': 2451, 'piss': 3297, 'myoutubecomwatch': 2912, 'lone': 2638, 'dm': 1296, 'discord': 1261, 'requir': 3693, 'weeb': 4839, 'lonely': 2641, 'solv': 4095, 'numer': 3035, 'seri': 3895, 'solve': 4096, 'series': 3896, 'etern': 1508, 'oblivion': 3045, 'afterlif': 113, 'conscious': 919, 'awar': 357, 'fair': 1616, 'eternal': 1509, 'nights': 2986, 'darkness': 1101, 'afterlife': 114, 'consciousness': 920, 'eventu': 1520, 'vent': 4754, 'fairli': 1617, 'standard': 4197, 'stuff': 4272, 'begin': 446, 'alot': 162, 'drift': 1350, 'hous': 2168, 'chunk': 780, 'beyond': 476, 'crash': 1019, 'odd': 3062, 'awkward': 368, 'doubt': 1323, 'uni': 4680, 'subject': 4283, 'huge': 2178, 'load': 2623, 'void': 4789, 'eventually': 1521, 'fairly': 1618, 'house': 2169, 'confident': 908, 'thread': 4481, 'program': 3464, 'began': 445, 'remind': 3670, 'quicker': 3536, 'detach': 1206, 'peni': 3232, 'penis': 3233, 'anymorei': 224, 'ten': 4417, 'unemploy': 4668, 'profession': 3457, 'incred': 2289, 'consist': 928, 'realize': 3597, 'unemployed': 4669, 'likely': 2598, 'professional': 3458, 'incredibly': 2291, 'consistently': 929, 'diploma': 1237, 'eye': 1600, 'within': 4910, 'hole': 2114, 'wrong': 4952, 'low': 2662, 'deserv': 1187, 'rais': 3557, 'differ': 1227, 'circumst': 786, 'smart': 4059, 'progress': 3465, 'improv': 2264, 'felt': 1672, 'sympathi': 4359, 'definit': 1155, 'piti': 3301, 'dig': 1233, 'deserve': 1188, 'raise': 3558, 'different': 1229, 'circumstances': 787, 'improve': 2265, 'sympathy': 4360, 'definitely': 1156, 'pity': 3302, 'un': 4648, 'born': 557, 'doubl': 1321, 'edg': 1405, 'sword': 4358, 'voic': 4787, 'garbag': 1857, 'amount': 188, 'everytim': 1535, 'accomplish': 47, 'tall': 4379, 'build': 630, 'bodi': 536, 'bear': 427, 'double': 1322, 'edge': 1406, 'voice': 4788, 'garbage': 1858, 'everytime': 1536, 'pills': 3291, 'body': 537, 'tuesday': 4614, 'trump': 4607, 'adopt': 88, 'multipl': 2899, 'continu': 945, 'closer': 818, 'later': 2521, 'wednesday': 4838, 'offer': 3068, 'multiple': 2900, 'continue': 946, 'medication': 2764, 'hi': 2087, 'violat': 4772, 'rule': 3777, 'check': 737, 'contain': 939, 'issu': 2407, 'must': 2908, 'member': 2777, 'intern': 2369, 'associ': 312, 'titl': 4515, 'refer': 3629, 'occur': 3056, 'individu': 2296, 'white': 4879, 'correct': 973, 'submit': 4284, 'bot': 560, 'action': 66, 'perform': 3243, 'automat': 344, 'moder': 2857, 'concern': 895, 'messag': 2793, 'ignor': 2225, 'repli': 3684, 'vagu': 4737, 'issue': 2408, 'title': 4516, 'individual': 2297, 'automatically': 345, 'message': 2794, 'ignore': 2227, 'reply': 3685, 'vague': 4738, 'pop': 3359, 'unlik': 4690, 'advanc': 94, 'impuls': 2267, 'seen': 3869, 'half': 1997, 'held': 2068, 'nonstop': 3000, 'four': 1787, 'let': 2568, 'painless': 3166, 'exit': 1569, 'weall': 4827, 'arenat': 272, 'lifestyl': 2590, 'unlike': 4691, 'advance': 95, 'lifestyle': 2591, 'male': 2694, 'compar': 870, 'other': 3119, 'ass': 302, 'disgust': 1268, 'cultur': 1059, 'north': 3009, 'east': 1397, 'vain': 4739, 'mediocr': 2768, 'human': 2180, 'aspect': 298, 'media': 2760, 'format': 1774, 'order': 3113, 'compare': 871, 'others': 3120, 'culture': 1060, 'mediocre': 2769, 'emot': 1438, 'transgend': 4574, 'met': 2797, 'late': 2519, 'courag': 997, 'motiv': 2885, 'area': 271, 'height': 2067, 'hobbi': 2109, 'drown': 1360, 'emotion': 1439, 'transgender': 4575, 'lately': 2520, 'courage': 998, 'motivation': 2887, 'hobbies': 2110, 'fiance': 1681, 'cheat': 736, 'etc': 1507, 'battl': 420, 'posit': 3364, 'anywher': 233, 'christma': 775, 'stood': 4228, 'bridg': 597, 'wed': 4837, 'dress': 1348, 'ring': 3738, 'throughout': 4489, 'battle': 421, 'positive': 3366, 'party': 3195, 'anywhere': 234, 'christmas': 776, 'bridge': 598, 'hack': 1991, 'system': 4365, 'lucki': 2670, 'suppli': 4320, 'glass': 1895, 'lucky': 2673, 'supply': 4321, 'backstori': 378, 'amazon': 176, 'appar': 248, 'copi': 962, 'bro': 606, 'max': 2739, 'studio': 4270, 'add': 78, 'mix': 2849, 'afterward': 117, 'replay': 3683, 'main': 2686, 'import': 2255, 'backstory': 379, 'apparently': 249, 'copy': 963, 'excite': 1558, 'universe': 4686, 'afterwards': 118, 'important': 2256, 'teacher': 4393, 'amd': 181, 'redditor': 3624, 'virgin': 4776, 'teachers': 4394, 'redditors': 3625, 'encourag': 1454, 'gain': 1846, 'encourage': 1455, 'server': 3902, 'umm': 4647, 'mine': 2827, 'pp': 3386, 'tiredi': 4513, 'tf': 4435, 'unstabl': 4697, 'uncontrol': 4661, 'mood': 2872, 'swing': 4356, 'overreact': 3147, 'ainat': 137, 'exagger': 1547, 'wtf': 4954, 'unstable': 4698, 'situations': 4016, 'sincer': 4003, 'introvert': 2379, 'quarantin': 3528, 'extrovert': 1599, 'sister': 4010, 'cking': 793, 'quarantine': 3529, 'achiev': 55, 'desper': 1194, 'outta': 3135, 'goals': 1901, 'achieve': 56, 'alcohol': 146, 'wood': 4919, 'headphon': 2042, 'heart': 2053, 'luck': 2669, 'woods': 4920, 'students': 4268, 'careful': 686, 'goddamn': 1903, 'motherfuck': 2883, 'act': 65, 'experienc': 1578, 'pattern': 3212, 'skull': 4030, 'cute': 1078, 'thousand': 4479, 'caught': 698, 'sex': 3915, 'weird': 4848, 'gross': 1965, 'fantasi': 1634, 'relev': 3656, 'convers': 951, 'describ': 1184, 'instant': 2345, 'nsfw': 3029, 'allow': 156, 'thousands': 4480, 'members': 2778, 'fantasy': 1638, 'relevant': 3657, 'conversation': 952, 'describe': 1185, 'irrat': 2397, 'messi': 2795, 'miseri': 2842, 'irrational': 2398, 'messy': 2796, 'misery': 2843, 'board': 533, 'aoh': 235, 'acknowledg': 58, 'notic': 3017, 'acknowledge': 59, 'notice': 3018, 'track': 4564, 'along': 161, 'dirt': 1242, 'road': 3743, 'daili': 1087, 'cross': 1048, 'gate': 1862, 'light': 2595, 'sign': 3984, 'train': 4569, 'roll': 3751, 'urg': 4714, 'daily': 1088, 'urge': 4715, 'modern': 2858, 'awhil': 366, 'unless': 4689, 'obviou': 3049, 'ideas': 2213, 'awhile': 367, 'claim': 794, 'jump': 2454, 'driven': 1355, 'cowardli': 1008, 'shoot': 3954, 'cowardly': 1009, 'silent': 3990, 'santa': 3807, 'pile': 3288, 'featur': 1660, 'pin': 3293, 'kept': 2465, 'insert': 2330, 'expens': 1574, 'item': 2415, 'access': 43, 'internet': 2371, 'cruel': 1050, 'ngl': 2975, 'assum': 314, 'ish': 2401, 'olds': 3083, 'feature': 1661, 'expensive': 1576, 'assume': 315, 'toxic': 4561, 'color': 848, 'overli': 3143, 'fake': 1620, 'disagre': 1248, 'sensit': 3886, 'funni': 1838, 'peoplea': 3236, 'famou': 1630, 'teas': 4397, 'whoa': 4880, 'forgiv': 1768, 'stranger': 4239, 'pl': 3304, 'attent': 329, 'laugh': 2524, 'youall': 4981, 'offens': 3066, 'attitud': 331, 'offend': 3065, 'asian': 293, 'sexual': 3918, 'badli': 385, 'mindset': 2826, 'overly': 3145, 'disagree': 1249, 'sensitive': 3887, 'funny': 1840, 'peopleas': 3237, 'famous': 1631, 'tease': 4398, 'whoas': 4881, 'forgive': 1769, 'pls': 3329, 'educate': 1411, 'attention': 330, 'offensive': 3067, 'countries': 993, 'attitude': 332, 'badly': 386, 'corrupt': 976, 'goe': 1904, 'inform': 2309, 'step': 4214, 'regard': 3635, 'comfortable': 857, 'favorit': 1653, 'quot': 3545, 'govern': 1918, 'charg': 730, 'desert': 1186, 'sand': 3802, 'asleep': 297, 'favorite': 1654, 'quote': 3546, 'government': 1919, 'charge': 731, 'math': 2734, 'appoint': 260, 'hook': 2138, 'chest': 747, 'blame': 511, 'subconsci': 4281, 'basement': 407, 'drag': 1336, 'five': 1716, 'pound': 3379, 'proud': 3481, 'gpa': 1921, 'origin': 3116, 'owe': 3153, 'smaller': 4057, 'robot': 3747, 'danger': 1095, 'destruct': 1204, 'slightli': 4045, 'superior': 4318, 'peer': 3229, 'fulli': 1831, 'creat': 1025, 'empti': 1448, 'constant': 932, 'worsen': 4931, 'emotions': 1443, 'appointment': 261, 'difference': 1228, 'extreme': 1597, 'dangerous': 1096, 'destructive': 1205, 'slightly': 4046, 'fully': 1832, 'create': 1026, 'empty': 1450, 'draw': 1344, 'pet': 3263, 'hug': 2177, 'return': 3726, 'marri': 2717, 'unlov': 4693, 'ambit': 177, 'marry': 2720, 'ambition': 178, 'plagu': 3306, 'flow': 1738, 'couldav': 982, 'reject': 3642, 'googl': 1913, 'front': 1818, 'terrifi': 4427, 'plague': 3307, 'couldave': 983, 'rejection': 3643, 'google': 1914, 'terrify': 4428, 'ruin': 3776, 'mention': 2787, 'dms': 1297, 'texts': 4434, 'map': 2710, 'bedroom': 439, 'flag': 1718, 'deeper': 1144, 'blood': 526, 'emptiness': 1449, 'succeed': 4291, 'roommat': 3757, 'spiral': 4163, 'januari': 2423, 'seven': 3910, 'disord': 1274, 'woke': 4913, 'kitchen': 2480, 'surround': 4338, 'drink': 1352, 'manner': 2708, 'list': 2609, 'cover': 1004, 'trash': 4583, 'cloth': 821, 'cord': 964, 'whiskey': 4877, 'cigarett': 782, 'butt': 652, 'rent': 3676, 'difficult': 1231, 'speak': 4143, 'commun': 864, 'interview': 2374, 'vomit': 4792, 'bang': 398, 'stumbl': 4273, 'rehab': 3641, 'friendli': 1811, 'safeti': 3796, 'roommate': 3758, 'january': 2424, 'roommates': 3759, 'strangers': 4240, 'disorder': 1275, 'alcoholic': 147, 'clothe': 822, 'communication': 866, 'stumble': 4274, 'helpful': 2074, 'friendly': 1812, 'safety': 3797, 'sheep': 3938, 'slur': 4053, 'fine': 1707, 'dude': 1368, 'dudes': 1369, 'pedo': 3224, 'ahead': 129, 'buy': 655, 'stock': 4223, 'invest': 2384, 'block': 525, 'exactli': 1545, 'rude': 3775, 'exactly': 1546, 'nearli': 2942, 'everybodi': 1525, 'nearly': 2943, 'everybody': 1526, 'collect': 845, 'steam': 4212, 'trade': 4565, 'myselfi': 2913, 'troubl': 4600, 'breath': 594, 'trouble': 4601, 'breathe': 595, 'will': 4894, 'acn': 60, 'acne': 61, 'tryna': 4611, 'impact': 2254, 'song': 4114, 'suggest': 4304, 'base': 406, 'suggestions': 4305, 'except': 1553, 'somehow': 4100, 'intent': 2362, 'embrac': 1432, 'intentions': 2364, 'embrace': 1433, 'suppos': 4324, 'nowher': 3026, 'brand': 583, 'ya': 4959, 'slip': 4048, 'habit': 1990, 'suppose': 4325, 'nowhere': 3027, 'luckili': 2671, 'luckily': 2672, 'blank': 513, 'pitch': 3300, 'recogn': 3612, 'recognize': 3613, 'instagram': 2341, 'record': 3616, 'egg': 1418, 'horror': 2153, 'nation': 2927, 'minecraft': 2828, 'addit': 81, 'sometime': 4108, 'addition': 82, 'sooo': 4120, 'disappoint': 1251, 'starv': 4202, 'fat': 1646, 'worthless': 4935, 'starve': 4203, 'pickup': 3281, 'snake': 4069, 'thicc': 4464, 'dumb': 1372, 'troll': 4599, 'rank': 3567, 'drip': 1353, 'alternative': 170, 'ai': 131, 'simp': 3995, 'band': 397, 'longest': 2645, 'spotifi': 4175, 'spotify': 4176, 'loser': 2653, 'type': 4634, 'drunk': 1363, 'nighti': 2982, 'escap': 1497, 'slow': 4050, 'escape': 1498, 'haha': 1993, 'genuin': 1877, 'context': 944, 'immedi': 2249, 'adam': 76, 'slept': 4040, 'confess': 904, 'lay': 2530, 'pool': 3354, 'fuckin': 1826, 'monster': 2869, 'hand': 2004, 'influenc': 2306, 'becam': 435, 'burst': 645, 'statement': 4205, 'temporari': 4414, 'target': 4384, 'justifi': 2460, 'behaviour': 451, 'aggress': 121, 'cliff': 809, 'consid': 926, 'save': 3813, 'nope': 3005, 'straw': 4241, 'prevent': 3420, 'site': 4013, 'treatment': 4590, 'iron': 2395, 'si': 3975, 'psychologist': 3495, 'toward': 4556, 'genuinely': 1879, 'immediately': 2251, 'entire': 1479, 'traumatize': 4587, 'influence': 2307, 'temporary': 4415, 'connection': 916, 'require': 3694, 'justify': 2461, 'consider': 927, 'prevention': 3421, 'sadness': 3794, 'towards': 4557, 'sw': 4348, 'corner': 967, 'chin': 756, 'metal': 2798, 'proper': 3474, 'surviv': 4340, 'clean': 801, 'mirror': 2839, 'stress': 4247, 'stare': 4200, 'match': 2730, 'spit': 4165, 'fit': 1715, 'rage': 3553, 'advis': 102, 'numb': 3033, 'uncomfort': 4658, 'greatli': 1951, 'affect': 106, 'public': 3503, 'brutal': 619, 'men': 2784, 'overal': 3137, 'rate': 3575, 'drain': 1338, 'product': 3455, 'citizen': 789, 'arrest': 282, 'higher': 2092, 'powerful': 3384, 'survive': 4342, 'star': 4199, 'advise': 103, 'uncomfortable': 4659, 'greatly': 1952, 'overall': 3138, 'associate': 313, 'productive': 3456, 'ton': 4535, 'somebodi': 4097, 'somebody': 4098, 'pathet': 3207, 'relaps': 3645, 'pathetic': 3208, 'relapse': 3646, 'gun': 1985, 'spot': 4174, 'rope': 3761, 'immens': 2252, 'immense': 2253, 'unabl': 4649, 'poverti': 3381, 'esteem': 1505, 'hearts': 2057, 'unable': 4650, 'poverty': 3382, 'teenager': 4408, 'link': 2604, 'rick': 3732, 'several': 3912, 'femboy': 1675, 'marriag': 2718, 'divorc': 1293, 'trust': 4608, 'church': 781, 'paper': 3177, 'plu': 3330, 'marriage': 2719, 'divorce': 1294, 'plus': 3332, 'primari': 3428, 'monitor': 2867, 'youtub': 4990, 'primary': 3429, 'youtube': 4991, 'unbeliev': 4655, 'welp': 4854, 'meaningless': 2750, 'snoo': 4073, 'faint': 1615, 'shower': 3967, 'otherwis': 3121, 'feet': 1669, 'otherwise': 3122, 'assholes': 307, 'water': 4819, 'pipe': 3296, 'role': 3750, 'model': 2856, 'daddi': 1084, 'broke': 607, 'bitter': 505, 'lack': 2500, 'process': 3450, 'theyal': 4458, 'freeze': 1799, 'daddy': 1085, 'reminder': 3671, 'theyall': 4459, 'idc': 2210, 'task': 4385, 'dump': 1375, 'club': 825, 'properli': 3475, 'draft': 1335, 'written': 4951, 'detail': 1207, 'properly': 3476, 'sorta': 4129, 'ship': 3946, 'specif': 4149, 'specific': 4150, 'cook': 957, 'dinner': 1235, 'wrap': 4945, 'suicidei': 4310, 'rap': 3569, 'eaten': 1400, 'chicken': 750, 'wisdom': 4904, 'teeth': 4411, 'tortur': 4548, 'torture': 4549, 'semi': 3881, 'hopeless': 2143, 'term': 4422, 'disabl': 1246, 'disability': 1245, 'introduc': 2377, 'expos': 1589, 'young': 4986, 'valu': 4742, 'supposedli': 4326, 'involv': 2389, 'groom': 1964, 'stigma': 4219, 'view': 4770, 'autism': 340, 'combin': 852, 'climb': 810, 'rid': 3733, 'research': 3695, 'core': 965, 'regardless': 3636, 'case': 691, 'sadden': 3790, 'whether': 4873, 'topic': 4544, 'treat': 4589, 'neg': 2952, 'overlook': 3144, 'bought': 565, 'introduce': 2378, 'expose': 1590, 'value': 4745, 'aware': 359, 'supposedly': 4327, 'involve': 2390, 'combine': 854, 'cop': 960, 'topics': 4545, 'negativity': 2954, 'gave': 1864, 'kiss': 2479, 'dirti': 1243, 'unattract': 4651, 'youav': 4984, 'spread': 4179, 'dirty': 1244, 'unattractive': 4652, 'youave': 4985, 'highli': 2094, 'recommend': 3614, 'engin': 1467, 'street': 4244, 'musician': 2906, 'europ': 1512, 'highly': 2095, 'engineer': 1468, 'europe': 1513, 'incredible': 2290, 'anxiou': 217, 'chaotic': 725, 'daughter': 1104, 'sibl': 3976, 'respons': 3707, 'reli': 3658, 'collaps': 843, 'anxious': 218, 'kindness': 2476, 'siblings': 3978, 'responsible': 3712, 'rely': 3665, 'collapse': 844, 'background': 376, 'femal': 1673, 'bipolar': 496, 'med': 2759, 'female': 1674, 'meds': 2771, 'throwaway': 4491, 'irrit': 2399, 'talent': 4375, 'occasion': 3053, 'sun': 4314, 'shine': 3945, 'brighter': 601, 'irritate': 2400, 'talents': 4377, 'occasionally': 3055, 'girlfriends': 1890, 'talented': 4376, 'favor': 1652, 'fellow': 1671, 'channel': 724, 'hea': 2037, 'subscrib': 4287, 'roblox': 3746, 'wouldav': 4940, 'happiest': 2015, 'teenagers': 4409, 'heas': 2058, 'wouldave': 4941, 'elementari': 1425, 'reput': 3690, 'secur': 3859, 'beg': 444, 'elementary': 1426, 'reputation': 3691, 'secure': 3860, 'destin': 1201, 'hid': 2088, 'blanket': 514, 'prospect': 3478, 'threw': 4486, 'facebook': 1602, 'built': 631, 'possess': 3367, 'qualiti': 3525, 'evid': 1540, 'strang': 4237, 'upon': 4709, 'prepar': 3403, 'destine': 1202, 'events': 1519, 'throw': 4490, 'qualities': 3526, 'evidence': 1541, 'strange': 4238, 'prescrib': 3405, 'overweight': 3151, 'bound': 568, 'syndrom': 4363, 'diseas': 1266, 'pant': 3176, 'psychiatr': 3488, 'million': 2822, 'confirm': 909, 'appear': 251, 'prescribe': 3406, 'bind': 489, 'moments': 2863, 'syndrome': 4364, 'disease': 1267, 'psychiatric': 3489, 'vibe': 4762, 'adult': 91, 'toy': 4562, 'stupidest': 4276, 'mall': 2695, 'sheet': 3940, 'enter': 1476, 'permiss': 3252, 'shout': 3964, 'gym': 1988, 'chill': 755, 'understood': 4664, 'cousin': 1002, 'numerous': 3036, 'prepare': 3404, 'noos': 3003, 'chair': 717, 'goodby': 1910, 'manipul': 2705, 'noose': 3004, 'manipulative': 2707, 'somewher': 4111, 'hammer': 2003, 'sixth': 4019, 'biggest': 485, 'highest': 2093, 'lowest': 2664, 'everyonea': 1530, 'thrown': 4492, 'intellig': 2356, 'shock': 3952, 'selfesteem': 3873, 'ash': 290, 'awe': 361, 'drove': 1359, 'ayou': 370, 'crowd': 1049, 'bond': 542, 'legend': 2555, 'although': 171, 'mere': 2789, 'forbid': 1759, 'realis': 3589, 'mum': 2901, 'twin': 4628, 'oxygen': 3157, 'breakfast': 591, 'lunch': 2674, 'panic': 3174, 'cat': 696, 'somewhere': 4112, 'disappointment': 1252, 'everyoneas': 1531, 'naturally': 2933, 'intelligent': 2358, 'severely': 3914, 'humanity': 2181, 'responsibility': 3711, 'realise': 3590, 'stressful': 4248, 'livingi': 2619, 'wise': 4905, 'strongli': 4259, 'cost': 978, 'inabl': 2271, 'afford': 108, 'park': 3184, 'hormon': 2145, 'distanc': 1282, 'belong': 458, 'partner': 3194, 'sadli': 3792, 'louder': 2658, 'sneak': 4072, 'rock': 3748, 'transit': 4576, 'near': 2938, 'buri': 642, 'lake': 2506, 'surfac': 4331, 'stronger': 4257, 'woman': 4914, 'strongly': 4260, 'inability': 2270, 'hormones': 2146, 'distance': 1283, 'sadly': 3793, 'transition': 4577, 'bury': 646, 'surface': 4332, 'explan': 1582, 'overcom': 3139, 'receiv': 3607, 'attack': 326, 'shown': 3968, 'friendship': 1814, 'up': 4703, 'explanation': 1583, 'overcome': 3140, 'receive': 3608, 'friendships': 1815, 'songs': 4115, 'mf': 2804, 'fortnit': 1779, 'mfs': 2805, 'fortnite': 1780, 'duck': 1367, 'nut': 3039, 'novemb': 3021, 'offici': 3072, 'trial': 4594, 'shall': 3925, 'trail': 4568, 'november': 3022, 'officially': 3074, 'useless': 4721, 'complic': 884, 'shake': 3924, 'complicate': 885, 'log': 2632, 'sake': 3799, 'food': 1753, 'floor': 1736, 'brush': 618, 'camera': 665, 'snapchat': 4071, 'attend': 328, 'negative': 2953, 'crumbl': 1051, 'forc': 1760, 'hasnat': 2029, 'suppress': 4328, 'toll': 4531, 'shouldnat': 3963, 'wasnat': 4815, 'eas': 1390, 'tension': 4421, 'asid': 294, 'grant': 1940, 'earlier': 1385, 'werenat': 4856, 'nude': 3031, 'upset': 4711, 'hatr': 2032, 'dedic': 1139, 'weigh': 4846, 'disappear': 1250, 'benefit': 464, 'onto': 3090, 'session': 3905, 'respond': 3706, 'capabl': 677, 'crumble': 1052, 'force': 1761, 'emotional': 1440, 'ease': 1391, 'aside': 295, 'nudes': 3032, 'hatred': 2033, 'dedicate': 1140, 'sacrifice': 3788, 'sessions': 3906, 'emotionally': 1441, 'capable': 678, 'ador': 89, 'resent': 3696, 'combat': 851, 'delusion': 1165, 'compani': 868, 'delusional': 1166, 'depressive': 1181, 'episodes': 1490, 'company': 869, 'midnight': 2813, 'flood': 1735, 'ditch': 1291, 'spill': 4160, 'overdos': 3141, 'address': 83, 'ident': 2217, 'illeg': 2238, 'fli': 1730, 'traffic': 4566, 'town': 4560, 'halloween': 2000, 'pressur': 3415, 'prime': 3430, 'diagnosi': 1220, 'forgotten': 1771, 'soooo': 4121, 'ear': 1383, 'humili': 2183, 'typic': 4635, 'invit': 2387, 'frequent': 1802, 'rout': 3767, 'feedback': 1667, 'absolute': 30, 'overdose': 3142, 'identity': 2220, 'illegal': 2239, 'fly': 1743, 'pressure': 3416, 'diagnosis': 1221, 'humiliate': 2184, 'typical': 4636, 'invite': 2388, 'sing': 4005, 'kindergarten': 2475, 'lyric': 2678, 'autist': 341, 'crappi': 1017, 'asperg': 300, 'curs': 1070, 'ball': 393, 'pointless': 3341, 'boss': 559, 'promot': 3471, 'practic': 3387, 'team': 4395, 'player': 3317, 'skill': 4023, 'phd': 3267, 'stem': 4213, 'field': 1683, 'jobless': 2436, 'nt': 3030, 'emotionless': 1442, 'mate': 2731, 'await': 354, 'decad': 1125, 'miracl': 2837, 'pure': 3514, 'tini': 4509, 'usernam': 4723, 'pussi': 3520, 'withdraw': 4909, 'autistic': 342, 'crappy': 1018, 'curse': 1071, 'practically': 3388, 'skills': 4024, 'decade': 1126, 'miracle': 2838, 'hop': 2139, 'tiny': 4510, 'possibility': 3368, 'username': 4724, 'pussy': 3521, 'row': 3770, 'bestfriend': 470, 'scatter': 3823, 'common': 863, 'billion': 488, 'opportun': 3099, 'solut': 4093, 'nightmar': 2983, 'isolate': 2405, 'opportunities': 3100, 'solution': 4094, 'options': 3110, 'nightmares': 2985, 'war': 4808, 'weed': 4840, 'garden': 1859, 'chees': 740, 'cheese': 741, 'clown': 824, 'script': 3845, 'spray': 4178, 'pleasei': 3323, 'desperate': 1195, 'ticket': 4499, 'hometown': 2122, 'dread': 1346, 'wallow': 4804, 'exercis': 1561, 'content': 942, 'randomli': 3563, 'visit': 4783, 'lower': 2663, 'perman': 3249, 'poorli': 3357, 'histori': 2104, 'peac': 3218, 'freedom': 1797, 'regularli': 3639, 'bar': 400, 'celebr': 708, 'anniversari': 200, 'nerv': 2963, 'decent': 1131, 'spin': 4161, 'pack': 3159, 'tab': 4366, 'seat': 3853, 'teach': 4392, 'dog': 1303, 'sat': 3808, 'beer': 441, 'saturday': 3812, 'artist': 288, 'whisper': 4878, 'touch': 4553, 'instanc': 2343, 'per': 3238, 'se': 3848, 'apathi': 241, 'daydream': 1107, 'rest': 3713, 'civil': 791, 'clock': 816, 'keyboard': 2467, 'cheer': 739, 'exercise': 1562, 'randomly': 3564, 'permanent': 3250, 'poorly': 3358, 'history': 2105, 'peace': 3219, 'regularly': 3640, 'celebrate': 709, 'anniversary': 201, 'nerve': 2964, 'instance': 2344, 'socialize': 4080, 'apathy': 242, 'youth': 4989, 'meaning': 2748, 'fantast': 1636, 'youngest': 4988, 'local': 2627, 'zero': 4994, 'cowork': 1010, 'od': 3061, 'danc': 1093, 'healthi': 2048, 'grandpa': 1937, 'grandma': 1934, 'rare': 3572, 'level': 2573, 'skinni': 4026, 'pig': 3287, 'wreck': 4946, 'safe': 3795, 'meaningful': 2749, 'fantastic': 1637, 'majority': 2691, 'coworkers': 1012, 'dance': 1094, 'healthy': 2050, 'rarely': 3573, 'skinny': 4027, 'assignments': 310, 'km': 2482, 'kms': 2483, 'atm': 324, 'quick': 3535, 'whoever': 4882, 'uhh': 4641, 'limbo': 2600, 'stalk': 4194, 'technic': 4400, 'unknown': 4688, 'overthink': 3148, 'nervou': 2965, 'technically': 4401, 'overthinking': 3149, 'nervous': 2966, 'da': 1082, 'inevit': 2299, 'heroin': 2082, 'meth': 2800, 'inevitable': 2300, 'favourit': 1656, 'favourite': 1657, 'recommendations': 3615, 'awak': 355, 'entertain': 1477, 'jaw': 2428, 'awake': 356, 'creepi': 1033, 'humor': 2185, 'bend': 462, 'borderlin': 553, 'kidnap': 2470, 'shrug': 3972, 'creepy': 1034, 'borderline': 554, 'scroll': 3846, 'soup': 4132, 'mei': 2774, 'grave': 1946, 'hunger': 2190, 'frankli': 1792, 'endur': 1459, 'philosophi': 3268, 'religion': 3663, 'illness': 2240, 'frankly': 1793, 'endure': 1460, 'consequences': 923, 'peak': 3222, 'spanish': 4140, 'dumbass': 1373, 'thursday': 4496, 'hidden': 2089, 'articl': 286, 'delet': 1161, 'sourc': 4133, 'article': 287, 'delete': 1162, 'source': 4134, 'switch': 4357, 'bullet': 633, 'apolog': 243, 'harass': 2020, 'easiest': 1394, 'drank': 1342, 'wich': 4888, 'apologize': 246, 'breakdown': 589, 'alert': 148, 'wrist': 4947, 'hesit': 2084, 'error': 1496, 'hesitate': 2085, 'goi': 1905, 'master': 2726, 'qualifi': 3523, 'steal': 4211, 'lord': 2651, 'qualify': 3524, 'psych': 3487, 'data': 1102, 'anonym': 205, 'anonymous': 206, 'fool': 1754, 'challeng': 718, 'greatest': 1950, 'plead': 3319, 'bu': 621, 'rip': 3739, 'prison': 3436, 'challenge': 719, 'efforts': 1416, 'nightmare': 2984, 'bus': 647, 'request': 3692, 'urgent': 4716, 'weaker': 4825, 'happend': 2012, 'plz': 3333, 'irl': 2394, 'activities': 70, 'existenti': 1567, 'fire': 1710, 'exact': 1544, 'existential': 1568, 'laid': 2505, 'cast': 694, 'cheap': 735, 'interact': 2365, 'immatur': 2247, 'dizzi': 1295, 'socially': 4081, 'immature': 2248, 'pm': 3334, 'homework': 2123, 'polit': 3348, 'applic': 256, 'active': 68, 'political': 3349, 'applications': 258, 'sleepi': 4039, 'homi': 2124, 'tendenc': 4419, 'fallen': 1622, 'tendencies': 4420, 'moon': 2873, 'environ': 1484, 'price': 3425, 'bottom': 564, 'zombi': 4996, 'affair': 105, 'insur': 2354, 'environment': 1485, 'zombie': 4997, 'insurance': 2355, 'fianca': 1680, 'herei': 2080, 'anyhow': 221, 'grew': 1955, 'happili': 2016, 'happily': 2017, 'vote': 4793, 'nicest': 2979, 'dollar': 1305, 'privileg': 3441, 'donate': 1310, 'dollars': 1306, 'privilege': 3442, 'sight': 3983, 'uk': 4642, 'condit': 901, 'obsess': 3047, 'hyper': 2199, 'mobil': 2851, 'tape': 4383, 'brilliant': 602, 'compound': 887, 'offic': 3069, 'soldier': 4089, 'shift': 3944, 'journey': 2444, 'flat': 1724, 'iphon': 2392, 'updat': 4705, 'statu': 4208, 'owner': 3155, 'grown': 1969, 'bill': 487, 'inflict': 2305, 'scrape': 3839, 'ground': 1966, 'ocd': 3057, 'slightest': 4044, 'panick': 3175, 'tend': 4418, 'deem': 1142, 'assess': 304, 'grate': 1944, 'aunt': 337, 'equal': 1491, 'laptop': 2513, 'condition': 902, 'tap': 4382, 'office': 3070, 'busy': 651, 'interactions': 2367, 'update': 4706, 'status': 4209, 'verbally': 4756, 'scrap': 3838, 'grind': 1960, 'fee': 1665, 'grateful': 1945, 'melt': 2775, 'alright': 165, 'counsel': 985, 'antidepress': 212, 'senior': 3883, 'despair': 1193, 'down': 1324, 'fortun': 1781, 'lethal': 2571, 'octob': 3059, 'institution': 2351, 'overwhelm': 3152, 'hotlin': 2163, 'basi': 409, 'thankfully': 4438, 'terribly': 4426, 'antidepressants': 213, 'october': 3060, 'graduation': 1929, 'hotline': 2164, 'basis': 412, 'wonderful': 4918, 'summer': 4313, 'yr': 4992, 'unhappi': 4676, 'strike': 4251, 'presenc': 3409, 'countless': 991, 'signific': 3986, 'brief': 599, 'cashier': 693, 'groceri': 1962, 'cure': 1064, 'lab': 2497, 'infinit': 2304, 'avail': 347, 'valuabl': 4743, 'presence': 3410, 'significant': 3987, 'grocery': 1963, 'valuable': 4744, 'princip': 3432, 'info': 2308, 'proceed': 3449, 'slap': 4035, 'concentr': 892, 'monday': 2865, 'classroom': 799, 'mistak': 2846, 'principal': 3433, 'concentrate': 893, 'mistake': 2847, 'porn': 3362, 'instantli': 2346, 'devic': 1215, 'digit': 1234, 'instantly': 2347, 'puberti': 3501, 'growth': 1970, 'bright': 600, 'athlet': 322, 'larg': 2514, 'pace': 3158, 'patienc': 3209, 'puberty': 3502, 'large': 2515, 'intelligence': 2357, 'patience': 3210, 'complex': 883, 'naiv': 2918, 'intim': 2375, 'ration': 3577, 'denial': 1172, 'unhappy': 4677, 'insecure': 2328, 'intimate': 2376, 'diei': 1225, 'tran': 4571, 'shelter': 3941, 'slim': 4047, 'disown': 1276, 'download': 1327, 'pic': 3279, 'muscl': 2903, 'profil': 3461, 'app': 247, 'restaur': 3715, 'plane': 3310, 'warm': 4810, 'wander': 4806, 'trans': 4572, 'muscle': 2904, 'profile': 3462, 'restaurant': 3716, 'hilari': 2099, 'ha': 1989, 'evil': 1542, 'stole': 4224, 'leagu': 2538, 'thru': 4493, 'slave': 4037, 'loos': 2649, 'league': 2539, 'loose': 2650, 'cuddl': 1056, 'cuddle': 1057, 'he': 2036, 'ugh': 4637, 'hes': 2083, 'texting': 4433, 'rot': 3763, 'retard': 3723, 'comprehend': 888, 'rel': 3644, 'exampl': 1549, 'perspect': 3260, 'special': 4146, 'abil': 21, 'period': 3247, 'nonexist': 2998, 'correctli': 974, 'paycheck': 3214, 'adulthood': 92, 'literal': 2612, 'perspective': 3261, 'ability': 22, 'periods': 3248, 'correctly': 975, 'taught': 4389, 'lawyer': 2529, 'polic': 3345, 'condom': 903, 'crime': 1037, 'police': 3346, 'comput': 889, 'desk': 1192, 'legit': 2556, 'soo': 4116, 'dri': 1349, 'winter': 4901, 'computer': 890, 'dry': 1365, 'whata': 4861, 'weirdest': 4849, 'vagina': 4736, 'whatas': 4862, 'princess': 3431, 'queen': 3532, 'cake': 660, 'fetish': 1677, 'breakup': 592, 'freez': 1798, 'ged': 1868, 'bank': 399, 'licens': 2581, 'bowl': 571, 'previous': 3423, 'yo': 4977, 'despit': 1199, 'smoke': 4065, 'friday': 1808, 'driver': 1356, 'ed': 1404, 'own': 3154, 'stolen': 4225, 'thin': 4468, 'dads': 1086, 'license': 2582, 'previously': 3424, 'coworker': 1011, 'despite': 1200, 'ultim': 4643, 'selfless': 3877, 'buck': 623, 'ultimately': 4645, 'inject': 2314, 'hundr': 2186, 'counselor': 987, 'discov': 1262, 'risk': 3741, 'outlet': 3130, 'honor': 2135, 'grandmoth': 1935, 'stage': 4190, 'cancer': 673, 'grandfath': 1932, 'nap': 2922, 'argu': 273, 'quietli': 3540, 'paragraph': 3180, 'flu': 1740, 'materi': 2732, 'bigger': 484, 'jerk': 2431, 'puppi': 3511, 'report': 3686, 'mail': 2685, 'discuss': 1264, 'print': 3434, 'quarter': 3530, 'protect': 3479, 'chose': 771, 'upstair': 4712, 'ap': 236, 'exam': 1548, 'score': 3837, 'cancel': 672, 'hungri': 2191, 'respect': 3705, 'approv': 268, 'lazi': 2532, 'suit': 4311, 'insane': 2326, 'hundreds': 2188, 'counselors': 988, 'discover': 1263, 'grandmother': 1936, 'grandfather': 1933, 'stories': 4232, 'manipulate': 2706, 'argue': 274, 'quietly': 3541, 'material': 2733, 'information': 2310, 'choose': 768, 'upstairs': 4713, 'hungry': 2192, 'lazy': 2533, 'shi': 3942, 'shy': 3974, 'explod': 1584, 'explode': 1585, 'mile': 2817, 'shorter': 3957, 'gta': 1972, 'horribly': 2151, 'uh': 4640, 'surpris': 4335, 'increas': 2285, 'unhealthi': 4678, 'diet': 1226, 'grandpar': 1938, 'recov': 3617, 'surprise': 4336, 'increase': 2286, 'unhealthy': 4679, 'grandparents': 1939, 'recover': 3618, 'competit': 877, 'underwear': 4665, 'oil': 3077, 'butter': 653, 'chase': 733, 'massiv': 2724, 'ultimate': 4644, 'competition': 878, 'massive': 2725, 'red': 3621, 'rose': 3762, 'endless': 1458, 'rise': 3740, 'scari': 3821, 'green': 1953, 'bug': 629, 'scary': 3822, 'tit': 4514, 'knowledg': 2493, 'knowledge': 2494, 'sunday': 4315, 'portion': 3363, 'financ': 1701, 'assist': 311, 'handful': 2005, 'finance': 1702, 'stroke': 4255, 'debt': 1124, 'heal': 2043, 'interaction': 2366, 'reference': 3630, 'fresh': 1804, 'trauma': 4584, 'violent': 4775, 'saniti': 3805, 'sanity': 3806, 'manifest': 2704, 'aai': 18, 'cell': 710, 'twitch': 4630, 'stream': 4243, 'leader': 2537, 'unpopular': 4696, 'opinions': 3098, 'consciou': 918, 'dysfunct': 1379, 'lectur': 2547, 'hallway': 2002, 'wide': 4889, 'nerd': 2961, 'eg': 1417, 'torn': 4547, 'file': 1689, 'linger': 2603, 'gap': 1854, 'sport': 4173, 'apathet': 239, 'footbal': 1757, 'flip': 1732, 'former': 1777, 'neglect': 2955, 'critic': 1046, 'locat': 2628, 'news': 2973, 'tech': 4399, 'storm': 4233, 'dorm': 1318, 'eight': 1421, 'remot': 3672, 'bland': 512, 'grader': 1926, 'giant': 1886, 'spoil': 4168, 'utterli': 4729, 'outcom': 3125, 'ridicul': 3735, 'psycholog': 3493, 'mutual': 2911, 'damag': 1089, 'min': 2824, 'piano': 3278, 'film': 1696, 'lecture': 2548, 'natural': 2932, 'adults': 93, 'apathetic': 240, 'football': 1758, 'criticize': 1047, 'remotely': 3673, 'effective': 1414, 'practice': 3389, 'utterly': 4730, 'outcome': 3126, 'position': 3365, 'damage': 1090, 'differently': 1230, 'humans': 2182, 'paint': 3167, 'campu': 667, 'pleasur': 3324, 'roof': 3755, 'campus': 668, 'pleasure': 3325, 'sacrific': 3787, 'dependent': 1178, 'speech': 4153, 'combination': 853, 'lap': 2512, 'classmat': 797, 'tl': 4517, 'dr': 1334, 'theater': 4443, 'hot': 2161, 'horni': 2147, 'boner': 544, 'inch': 2275, 'silenc': 3988, 'horny': 2148, 'silence': 3989, 'surgeri': 4333, 'academ': 37, 'anybodi': 219, 'surgery': 4334, 'academic': 38, 'appearance': 252, 'anybody': 220, 'essay': 1501, 'hike': 2098, 'string': 4252, 'psychiatrist': 3490, 'institut': 2350, 'tempt': 4416, 'therapists': 4451, 'original': 3117, 'thu': 4494, 'signal': 3985, 'thus': 4497, 'art': 285, 'co': 829, 'poison': 3342, 'bath': 417, 'deep': 1143, 'glad': 1894, 'button': 654, 'experiment': 1580, 'bruis': 616, 'leg': 2552, 'bruise': 617, 'homophob': 2127, 'command': 859, 'presid': 3412, 'president': 3413, 'uncl': 4656, 'uncle': 4657, 'donei': 1312, 'coward': 1007, 'liar': 2577, 'cycl': 1080, 'twitter': 4631, 'invis': 2385, 'cycle': 1081, 'invisible': 2386, 'karen': 2462, 'stone': 4227, 'confus': 912, 'confuse': 913, 'mea': 2745, 'peacefully': 3221, 'herea': 2078, 'tutor': 4621, 'volunt': 4790, 'shop': 3955, 'captain': 680, 'hereas': 2079, 'psychology': 3496, 'volunteer': 4791, 'bull': 632, 'pee': 3227, 'orang': 3111, 'fart': 1641, 'bi': 478, 'orange': 3112, 'gender': 1870, 'procrastin': 3451, 'procrastinate': 3452, 'air': 138, 'toddler': 4521, 'militari': 2819, 'breast': 593, 'opposit': 3102, 'coast': 831, 'unit': 4683, 'sunset': 4316, 'scenario': 3824, 'psychot': 3498, 'conflict': 910, 'shape': 3929, 'sink': 4008, 'mortal': 2879, 'garag': 1855, 'bathtub': 419, 'visual': 4784, 'slit': 4049, 'military': 2820, 'immediate': 2250, 'opposite': 3103, 'unite': 4684, 'aspects': 299, 'conversations': 953, 'psychotic': 3499, 'hopefully': 2142, 'garage': 1856, 'wrists': 4948, 'toe': 4522, 'stair': 4192, 'stairs': 4193, 'lifea': 2586, 'homophobic': 2128, 'district': 1289, 'responses': 3709, 'discharg': 1255, 'discharge': 1256, 'bye': 657, 'mourn': 2889, 'tick': 4498, 'dearli': 1118, 'goodbye': 1911, 'dearly': 1119, 'crawl': 1021, 'emerg': 1434, 'emergency': 1435, 'recal': 3605, 'despis': 1197, 'industri': 2298, 'jail': 2421, 'heavi': 2061, 'threaten': 4483, 'christian': 774, 'seek': 3864, 'counter': 990, 'drastic': 1343, 'devast': 1212, 'recall': 3606, 'despise': 1198, 'heavy': 2064, 'relatively': 3651, 'furri': 1841, 'pokemon': 3344, 'servic': 3903, 'andor': 190, 'service': 3904, 'reliev': 3660, 'relieve': 3661, 'suspect': 4345, 'septemb': 3893, 'september': 3894, 'stepmom': 4216, 'book': 547, 'bag': 387, 'potato': 3375, 'deepest': 1145, 'laughter': 2525, 'closet': 820, 'upa': 4704, 'ghost': 1885, 'confront': 911, 'bean': 426, 'ad': 75, 'settl': 3908, 'neutral': 2970, 'originally': 3118, 'settle': 3909, 'aswel': 318, 'refus': 3633, 'aswell': 319, 'refuse': 3634, 'possibly': 3371, 'disable': 1247, 'classmates': 798, 'flair': 1719, 'surely': 4330, 'net': 2967, 'puke': 3505, 'gut': 1986, 'tooth': 4542, 'transport': 4581, 'releas': 3654, 'swell': 4354, 'input': 2324, 'release': 3655, 'arguments': 276, 'spell': 4155, 'greater': 1949, 'legally': 2554, 'dope': 1317, 'downvot': 1330, 'op': 3092, 'downvoted': 1331, 'goodnight': 1912, 'yk': 4975, 'wifi': 4892, 'sack': 3786, 'slide': 4042, 'lean': 2541, 'pillow': 3290, 'shove': 3965, 'throat': 4488, 'charact': 728, 'punish': 3509, 'boomer': 549, 'complain': 879, 'milk': 2821, 'republican': 3689, 'statist': 4207, 'corona': 968, 'tax': 4390, 'rich': 3731, 'sexi': 3916, 'character': 729, 'punishment': 3510, 'teens': 4410, 'sexy': 3921, 'host': 2160, 'tik': 4502, 'noon': 3001, 'noone': 3002, 'gray': 1947, 'tldr': 4518, 'couch': 979, 'soft': 4087, 'buddi': 626, 'duti': 1377, 'fold': 1748, 'size': 4020, 'downward': 1332, 'stain': 4191, 'cheek': 738, 'pat': 3204, 'fiction': 1682, 'harsh': 2028, 'advantag': 96, 'lip': 2605, 'blink': 522, 'sober': 4077, 'tight': 4501, 'neck': 2948, 'afternoon': 116, 'reaction': 3584, 'buddy': 627, 'advantage': 97, 'lips': 2606, 'tree': 4591, 'huh': 2179, 'magic': 2684, 'separ': 3891, 'separate': 3892, 'review': 3728, 'pleasant': 3321, 'refresh': 3632, 'brace': 578, 'funer': 1836, 'funeral': 1837, 'handsom': 2008, 'burger': 641, 'bacon': 383, 'tea': 4391, 'nail': 2917, 'citi': 788, 'pit': 3299, 'city': 790, 'hopelessness': 2144, 'standards': 4198, 'smooth': 4066, 'sexually': 3920, 'contract': 947, 'exgirlfriend': 1563, 'ptsd': 3500, 'heartbreak': 2055, 'heat': 2059, 'snack': 4068, 'boost': 550, 'moral': 2874, 'dust': 1376, 'previou': 3422, 'disconnect': 1260, 'fan': 1632, 'drunken': 1364, 'scene': 3825, 'purchas': 3512, 'firearm': 1711, 'sisters': 4011, 'misunderstand': 2848, 'communicate': 865, 'purchase': 3513, 'impulsive': 2269, 'application': 257, 'choos': 767, 'nod': 2992, 'replac': 3681, 'replace': 3682, 'zoom': 4999, 'insta': 2340, 'electr': 1424, 'holiday': 2116, 'scholarship': 3830, 'thrive': 4487, 'afloat': 109, 'medical': 2762, 'assur': 316, 'assure': 317, 'sold': 4088, 'horrid': 2152, 'obtain': 3048, 'available': 348, 'cream': 1024, 'racist': 3550, 'oldest': 3082, 'ig': 2224, 'heall': 2044, 'hobby': 2111, 'ads': 90, 'genuine': 1878, 'ipad': 2391, 'mama': 2696, 'album': 145, 'perfectli': 3241, 'cos': 977, 'perfectly': 3242, 'chines': 758, 'exchang': 1555, 'freshman': 1805, 'april': 270, 'wead': 4823, 'announc': 202, 'china': 757, 'chinese': 759, 'exchange': 1556, 'desperately': 1196, 'formatpng': 1776, 'autowebp': 346, 'ladies': 2503, 'skype': 4032, 'bud': 625, 'yaall': 4960, 'mock': 2853, 'determine': 1211, 'law': 2527, 'wing': 4900, 'yellow': 4970, 'sharp': 3931, 'wave': 4820, 'sting': 4221, 'vacat': 4733, 'honey': 2134, 'golden': 1907, 'glow': 1897, 'technolog': 4402, 'latest': 2522, 'speci': 4145, 'sky': 4031, 'knock': 2489, 'author': 339, 'patch': 3205, 'balloon': 394, 'tattoo': 4388, 'gold': 1906, 'sir': 4009, 'monkey': 2868, 'number': 3034, 'supervisor': 4319, 'nine': 2987, 'brave': 585, 'flight': 1731, 'restrict': 3718, 'rain': 3555, 'bird': 497, 'bat': 416, 'root': 3760, 'launch': 2526, 'buzz': 656, 'wind': 4896, 'smell': 4062, 'resum': 3720, 'nah': 2916, 'predict': 3398, 'global': 1896, 'boot': 551, 'chip': 760, 'fashion': 1643, 'elect': 1423, 'knee': 2484, 'spider': 4159, 'yearn': 4967, 'float': 1734, 'compet': 876, 'everywher': 1537, 'creep': 1032, 'page': 3160, 'scienc': 3833, 'bet': 471, 'out': 3123, 'ray': 3580, 'select': 3871, 'actor': 72, 'sale': 3800, 'farm': 1640, 'wipe': 4902, 'radio': 3552, 'wherev': 4871, 'truck': 4603, 'jam': 2422, 'smack': 4055, 'profit': 3463, 'laws': 2528, 'be': 424, 'vacation': 4734, 'cousins': 1003, 'technology': 4403, 'millions': 2823, 'species': 4148, 'example': 1550, 'miles': 2818, 'choices': 765, 'degrees': 1159, 'resume': 3721, 'ridiculous': 3736, 'legs': 2560, 'everywhere': 1538, 'science': 3834, 'wherever': 4872, 'community': 867, 'frick': 1807, 'weakness': 4826, 'dealt': 1116, 'whose': 4887, 'invalid': 2382, 'salt': 3801, 'rush': 3780, 'key': 2466, 'contribute': 949, 'homies': 2125, 'smash': 4061, 'bloodi': 527, 'bloody': 528, 'pronoun': 3472, 'intrus': 2380, 'court': 1001, 'molest': 2860, 'kidney': 2471, 'agoni': 124, 'er': 1493, 'minor': 2832, 'abandon': 20, 'intrusive': 2381, 'agony': 125, 'clinic': 813, 'prozac': 3485, 'ate': 320, 'meal': 2746, 'downhil': 1325, 'downhill': 1326, 'accidentally': 46, 'devastate': 1213, 'chapter': 727, 'comic': 858, 'concept': 894, 'defeat': 1149, 'recoveri': 3619, 'king': 2478, 'hood': 2136, 'leap': 2542, 'island': 2402, 'recovery': 3620, 'openli': 3094, 'openly': 3095, 'liquor': 2608, 'restrain': 3717, 'nurs': 3037, 'hors': 2154, 'crack': 1014, 'belief': 453, 'atheist': 321, 'hr': 2173, 'nurse': 3038, 'horse': 2155, 'response': 3708, 'beliefs': 454, 'design': 1189, 'hollow': 2117, 'tweet': 4624, 'paranoid': 3182, 'mechan': 2757, 'rat': 3574, 'virginity': 4777, 'bout': 569, 'insight': 2333, 'haircut': 1996, 'selfi': 3875, 'chocol': 761, 'chocolate': 762, 'villain': 4771, 'heaven': 2060, 'warrant': 4813, 'casual': 695, 'pc': 3216, 'doc': 1299, 'livei': 2617, 'medicin': 2766, 'bail': 388, 'fals': 1624, 'medicine': 2767, 'false': 1625, 'importantli': 2257, 'lighter': 2596, 'importantly': 2258, 'peaceful': 3220, 'sadder': 3791, 'itch': 2414, 'personal': 3257, 'nasti': 2925, 'nasty': 2926, 'dive': 1292, 'guid': 1977, 'beach': 425, 'brat': 584, 'loath': 2625, 'guide': 1980, 'loathe': 2626, 'ii': 2228, 'particularli': 3192, 'rambl': 3559, 'particularly': 3193, 'ramble': 3560, 'bleach': 516, 'pics': 3282, 'meat': 2756, 'bless': 519, 'toilet': 4526, 'tons': 4539, 'lowkey': 2665, 'spoke': 4169, 'faith': 1619, 'honesti': 2130, 'bucket': 624, 'wine': 4899, 'honesty': 2133, 'assault': 303, 'survivor': 4343, 'victim': 4764, 'patient': 3211, 'necessarili': 2945, 'hotlines': 2165, 'necessarily': 2946, 'occasional': 3054, 'snow': 4074, 'mountain': 2888, 'rapist': 3571, 'pedophil': 3225, 'bpd': 577, 'leech': 2550, 'pedophile': 3226, 'improvement': 2266, 'essentially': 1503, 'swag': 4349, 'soap': 4075, 'wether': 4860, 'outcast': 3124, 'remark': 3667, 'whine': 4875, 'generally': 1874, 'accus': 50, 'repost': 3687, 'accuse': 51, 'impost': 2261, 'su': 4279, 'iq': 2393, 'imposter': 2262, 'sus': 4344, 'ect': 1403, 'yea': 4964, 'pe': 3217, 'burnt': 644, 'endi': 1457, 'custom': 1076, 'repair': 3677, 'headach': 2039, 'america': 182, 'moron': 2878, 'landlord': 2509, 'employ': 1446, 'headaches': 2041, 'upper': 4710, 'families': 1628, 'relatives': 3652, 'border': 552, 'mode': 2855, 'non': 2995, 'extent': 1594, 'user': 4722, 'threat': 4482, 'door': 1315, 'paranoia': 3181, 'incap': 2272, 'incapable': 2273, 'lifei': 2587, 'network': 2969, 'bliss': 523, 'gamer': 1851, 'chew': 748, 'privaci': 3437, 'conclus': 897, 'privacy': 3438, 'conclusion': 898, 'moms': 2864, 'resign': 3698, 'fist': 1714, 'fuckup': 1827, 'wa': 4797, 'document': 1301, 'measur': 2754, 'manager': 2700, 'meh': 2773, 'crisi': 1044, 'internship': 2372, 'led': 2549, 'antisoci': 214, 'crisis': 1045, 'liver': 2618, 'videogam': 4767, 'asf': 289, 'necessari': 2944, 'videogames': 4768, 'necessary': 2947, 'hung': 2189, 'rocket': 3749, 'lockdown': 2631, 'particip': 3189, 'incompet': 2282, 'minimum': 2831, 'participate': 3190, 'cu': 1055, 'cus': 1072, 'hundred': 2187, 'taller': 4380, 'ted': 4404, 'politics': 3350, 'expel': 1573, 'incid': 2276, 'incident': 2277, 'appropri': 266, 'discussion': 1265, 'appropriate': 267, 'gp': 1920, 'direction': 1239, 'fb': 1658, 'plenti': 3326, 'tinder': 4508, 'plenty': 3327, 'persist': 3254, 'utter': 4728, 'loop': 2648, 'pot': 3374, 'gift': 1887, 'passions': 3199, 'decades': 1127, 'selfharm': 3874, 'fantas': 1633, 'depth': 1183, 'fantasize': 1635, 'confusion': 914, 'tumor': 4616, 'healthcar': 2046, 'spectrum': 4152, 'healthcare': 2047, 'tablet': 4369, 'ibuprofen': 2207, 'resort': 3702, 'empathi': 1444, 'betray': 472, 'flesh': 1728, 'potentially': 3378, 'empathy': 1445, 'frequently': 1803, 'ami': 185, 'mid': 2810, 'weav': 4832, 'strict': 4250, 'weave': 4833, 'logic': 2633, 'tommorow': 4533, 'tw': 4623, 'factor': 1607, 'path': 3206, 'routin': 3768, 'con': 891, 'outweigh': 3136, 'pro': 3443, 'insignific': 2334, 'routine': 3769, 'frustration': 1822, 'insignificant': 2335, 'nnn': 2989, 'appl': 253, 'apple': 254, 'facil': 1604, 'facility': 1605, 'animal': 197, 'addict': 79, 'prais': 3390, 'ethic': 1511, 'barrier': 405, 'wage': 4798, 'sorrow': 4126, 'depart': 1175, 'praise': 3391, 'department': 1176, 'plate': 3314, 'blast': 515, 'xbox': 4957, 'ceas': 703, 'dish': 1269, 'leak': 2540, 'drama': 1339, 'chore': 769, 'highway': 2097, 'lung': 2675, 'unfair': 4671, 'sentenc': 3889, 'tool': 4541, 'cease': 704, 'chores': 770, 'lungs': 2676, 'security': 3861, 'sentence': 3890, 'frog': 1817, 'web': 4834, 'ssri': 4183, 'xanax': 4956, 'darkest': 1100, 'addiction': 80, 'useful': 4720, 'mechanism': 2758, 'chosen': 772, 'instinct': 2349, 'weapon': 4828, 'crimin': 1038, 'custodi': 1074, 'beforehand': 442, 'cigarettes': 783, 'officer': 3071, 'cars': 689, 'criminal': 1039, 'custody': 1075, 'biden': 482, 'blind': 521, 'heartbroken': 2056, 'ano': 204, 'smth': 4067, 'doi': 1304, 'scratch': 3840, 'national': 2928, 'consol': 930, 'console': 931, 'unconsci': 4660, 'vision': 4782, 'vast': 4751, 'guarante': 1973, 'reward': 3729, 'guarantee': 1974, 'meow': 2788, 'timei': 4507, 'sigh': 3982, 'preferably': 3400, 'bs': 620, 'verg': 4757, 'disrespect': 1279, 'bathroom': 418, 'defend': 1151, 'verge': 4758, 'upi': 4707, 'ungrat': 4674, 'ungrateful': 4675, 'insult': 2353, 'survival': 4341, 'dear': 1117, 'european': 1514, 'healthier': 2049, 'psychiatrists': 3491, 'lt': 2667, 'hall': 1999, 'toi': 4525, 'thisi': 4473, 'hs': 2174, 'ny': 3040, 'liber': 2578, 'unmotiv': 4694, 'restart': 3714, 'deliv': 1163, 'finals': 1700, 'unmotivated': 4695, 'deliver': 1164, 'ironic': 2396, 'quality': 3527, 'sexuality': 3919, 'logical': 2634, 'aim': 136, 'scam': 3817, 'youad': 4980, 'africa': 111, 'round': 3766, 'sh': 3922, 'cuss': 1073, 'lego': 2559, 'budget': 628, 'formal': 1773, 'wholesom': 4884, 'wholesome': 4885, 'hill': 2100, 'affection': 107, 'capac': 679, 'pair': 3168, 'pen': 3230, 'enrol': 1475, 'tylenol': 4633, 'successfully': 4294, 'shrek': 3970, 'donkey': 1313, 'sperm': 4158, 'soda': 4086, 'pre': 3395, 'brag': 579, 'prom': 3468, 'ego': 1419, 'spite': 4166, 'tone': 4536, 'disast': 1253, 'lucid': 2668, 'cloud': 823, 'sustain': 4347, 'disaster': 1254, 'ideation': 2215, 'rational': 3578, 'expand': 1570, 'insecurities': 2329, 'sexist': 3917, 'librari': 2579, 'popul': 3360, 'theori': 4447, 'library': 2580, 'theory': 4448, 'plastic': 3313, 'nonsens': 2999, 'measure': 2755, 'scold': 3836, 'econom': 1402, 'candi': 674, 'machin': 2680, 'reduc': 3627, 'pencil': 3231, 'space': 4136, 'backup': 380, 'opportunity': 3101, 'candy': 675, 'machine': 2681, 'organize': 3115, 'reduce': 3628, 'password': 3202, 'nag': 2915, 'websit': 4835, 'trait': 4570, 'mobile': 2852, 'cult': 1058, 'pray': 3393, 'happier': 2014, 'lb': 2534, 'lbs': 2535, 'thoughtsi': 4478, 'internal': 2370, 'pizza': 3303, 'streets': 4245, 'scheme': 3828, 'polici': 3347, 'witch': 4908, 'twist': 4629, 'fifth': 1685, 'aita': 140, 'dose': 1319, 'shoe': 3953, 'hentai': 2077, 'hoodi': 2137, 'cave': 701, 'grief': 1957, 'wheel': 4868, 'forest': 1764, 'confide': 906, 'suffoc': 4301, 'suffocate': 4302, 'ward': 4809, 'german': 1880, 'creativ': 1027, 'tune': 4617, 'fade': 1609, 'lesser': 2565, 'spirit': 4164, 'schizophrenia': 3829, 'guidanc': 1978, 'writer': 4950, 'sabotag': 3784, 'attach': 325, 'enemi': 1461, 'innoc': 2320, 'demand': 1167, 'sicken': 3980, 'spark': 4142, 'illus': 2242, 'creative': 1028, 'breakdowns': 590, 'guidance': 1979, 'sabotage': 3785, 'enemy': 1462, 'innocent': 2321, 'omg': 3084, 'pink': 3295, 'ceil': 706, 'stubborn': 4265, 'ceiling': 707, 'backward': 381, 'spam': 4138, 'bisexu': 500, 'homeschool': 2121, 'sin': 4000, 'bibl': 480, 'bisexual': 501, 'bible': 481, 'trend': 4592, 'uniqu': 4681, 'unique': 4682, 'dwell': 1378, 'tub': 4612, 'hip': 2102, 'slight': 4043, 'lift': 2594, 'coma': 850, 'envi': 1483, 'envy': 1486, 'lash': 2517, 'loan': 2624, 'corps': 971, 'coronaviru': 969, 'blackmail': 508, 'strongest': 4258, 'sham': 3927, 'corpse': 972, 'coronavirus': 970, 'sincerely': 4004, 'joint': 2440, 'judgement': 2448, 'defin': 1153, 'define': 1154, 'lick': 2583, 'doors': 1316, 'followers': 1752, 'lgbt': 2575, 'mic': 2808, 'fml': 1744, 'items': 2416, 'section': 3858, 'flush': 1742, 'official': 3073, 'therefor': 4455, 'sweat': 4352, 'therefore': 4456, 'beauty': 434, 'smh': 4063, 'alli': 155, 'vs': 4794, 'failures': 1614, 'vanish': 4747, 'shoulder': 3962, 'motion': 2884, 'dumbest': 1374, 'cling': 811, 'inherit': 2312, 'fund': 1835, 'expense': 1575, 'todayi': 4520, 'hypocrit': 2200, 'cunt': 1062, 'stabil': 4185, 'wash': 4814, 'realist': 3591, 'dayi': 1108, 'bald': 392, 'incel': 2274, 'peep': 3228, 'prank': 3392, 'sum': 4312, 'gang': 1853, 'cap': 676, 'nintendo': 2988, 'translat': 4578, 'sole': 4090, 'ambul': 179, 'tough': 4554, 'cramp': 1015, 'relief': 3659, 'ambulance': 180, 'appointments': 262, 'schoolwork': 3832, 'nose': 3010, 'publish': 3504, 'cbt': 702, 'instrument': 2352, 'biolog': 493, 'gene': 1871, 'gt': 1971, 'oper': 3096, 'sociopath': 4084, 'masturb': 2727, 'bounc': 566, 'smarter': 4060, 'john': 2438, 'reveal': 3727, 'biological': 494, 'masturbate': 2728, 'bounce': 567, 'psychological': 3494, 'clinical': 814, 'ponder': 3352, 'of': 3063, 'dissoci': 1281, 'dismiss': 1272, 'ait': 139, 'off': 3064, 'forehead': 1762, 'shrink': 3971, 'construct': 935, 'ignorant': 2226, 'sock': 4085, 'persona': 3256, 'frank': 1791, 'via': 4761, 'preciou': 3396, 'precious': 3397, 'pump': 3507, 'hero': 2081, 'dawn': 1105, 'backpack': 377, 'shotgun': 3961, 'hunt': 2193, 'bow': 570, 'idiots': 2222, 'threats': 4484, 'freind': 1800, 'hehe': 2066, 'knot': 2490, 'foolish': 1755, 'atleast': 323, 'skirt': 4029, 'claw': 800, 'shirt': 3947, 'nois': 2993, 'fuel': 1828, 'stack': 4188, 'noise': 2994, 'gal': 1847, 'reset': 3697, 'jojo': 2441, 'invent': 2383, 'cartoon': 690, 'jacket': 2420, 'mission': 2845, 'australia': 338, 'inpati': 2322, 'inpatient': 2323, 'tok': 4527, 'extend': 1592, 'alarm': 143, 'hadnat': 1992, 'nausea': 2935, 'kitten': 2481, 'balanc': 390, 'prolong': 3467, 'balance': 391, 'premium': 3402, 'emoji': 1437, 'abort': 25, 'morbid': 2875, 'killer': 2473, 'prescript': 3407, 'prescription': 3408, 'infect': 2302, 'sea': 3849, 'highschool': 2096, 'acid': 57, 'scale': 3816, 'longterm': 2646, 'increasingli': 2287, 'expectations': 1572, 'increasingly': 2288, 'turkey': 4619, 'zoloft': 4995, 'muster': 2909, 'lame': 2507, 'forum': 1782, 'tragic': 4567, 'outi': 3129, 'curl': 1067, 'retail': 3722, 'cooki': 958, 'alonei': 160, 'hallucin': 2001, 'survey': 4339, 'folk': 1749, 'beaten': 431, 'rob': 3745, 'anguish': 195, 'whilst': 4874, 'folks': 1750, 'kinds': 2477, 'deaths': 1121, 'choke': 766, 'tiktok': 4503, 'alien': 150, 'grasp': 1942, 'length': 2562, 'nake': 2919, 'inconveni': 2283, 'slut': 4054, 'naked': 2920, 'finger': 1708, 'faggot': 1610, 'helpless': 2076, 'responsibilities': 3710, 'loner': 2642, 'website': 4836, 'bump': 638, 'distraught': 1287, 'shadow': 3923, 'lo': 2622, 'explor': 1587, 'poop': 3355, 'theyad': 4457, 'sixteen': 4018, 'oni': 3087, 'mute': 2910, 'code': 836, 'virtual': 4778, 'greet': 1954, 'streak': 4242, 'fruit': 1819, 'powerless': 3385, 'nearest': 2941, 'defect': 1150, 'enjoyable': 1472, 'cod': 835, 'petti': 3264, 'decay': 1128, 'sooner': 4118, 'rotten': 3764, 'mcdonald': 2744, 'petty': 3265, 'exams': 1551, 'roast': 3744, 'devil': 1216, 'angel': 191, 'torment': 4546, 'disney': 1273, 'banana': 396, 'foster': 1784, 'dot': 1320, 'west': 4857, 'migrain': 2815, 'acquaint': 62, 'toss': 4550, 'flaw': 1726, 'acquaintances': 63, 'resolv': 3700, 'resolve': 3701, 'motivate': 2886, 'anti': 211, 'benzo': 465, 'aaaaaaaaaaaa': 10, 'specifically': 4151, 'independ': 2292, 'paperwork': 3178, 'independent': 2293, 'moan': 2850, 'permanently': 3251, 'delay': 1160, 'guard': 1975, 'abortion': 26, 'explore': 1588, 'south': 4135, 'hotel': 2162, 'chemic': 742, 'wound': 4943, 'dozen': 1333, 'spring': 4180, 'occas': 3052, 'chemical': 743, 'distraction': 1286, 'nephew': 2960, 'insomnia': 2337, 'aggressive': 122, 'unemployment': 4670, 'um': 4646, 'headache': 2040, 'subhuman': 4282, 'netflix': 2968, 'charm': 732, 'redeem': 3626, 'birth': 498, 'holi': 2115, 'manic': 2703, 'holy': 2118, 'beneath': 463, 'viru': 4779, 'virus': 4780, 'unsur': 4699, 'unsure': 4700, 'ga': 1845, 'cough': 980, 'blunt': 531, 'sandwich': 3803, 'lurk': 2677, 'users': 4725, 'armi': 278, 'army': 279, 'passive': 3201, 'properti': 3477, 'reasonable': 3602, 'liquid': 2607, 'western': 4858, 'tale': 4374, 'rebuild': 3604, 'location': 2629, 'boob': 546, 'accent': 40, 'bake': 389, 'british': 605, 'knowi': 2492, 'soccer': 4078, 'acceptable': 42, 'lesbian': 2563, 'substanc': 4288, 'substance': 4289, 'injuri': 2317, 'genet': 1876, 'spare': 4141, 'serv': 3900, 'outgo': 3128, 'injury': 2318, 'serve': 3901, 'helpi': 2075, 'repress': 3688, 'boyfriends': 575, 'thankful': 4437, 'thumb': 4495, 'market': 2716, 'foot': 1756, 'branch': 582, 'bash': 408, 'staff': 4189, 'apologis': 244, 'apologise': 245, 'rumor': 3778, 'retir': 3724, 'retire': 3725, 'defens': 1152, 'flavor': 1725, 'ayo': 369, 'platform': 3315, 'screenshot': 3843, 'declin': 1137, 'decline': 1138, 'heavili': 2062, 'heavily': 2063, 'gambl': 1848, 'gamble': 1849, 'repeatedli': 3679, 'repeatedly': 3680, 'reflect': 3631, 'terror': 4429, 'colour': 849, 'carbon': 682, 'weirdo': 4850, 'quiz': 3544, 'transphob': 4579, 'transphobic': 4580, 'marijuana': 2713, 'encount': 1452, 'comparison': 872, 'encounter': 1453, 'bubbl': 622, 'gas': 1861, 'domin': 1307, 'compassion': 874, 'performance': 3244, 'cow': 1006, 'juli': 2452, 'fianc': 1679, 'july': 2453, 'sibling': 3977, 'stall': 4195, 'drill': 1351, 'clich': 805, 'cliche': 806, 'nowi': 3028, 'blur': 532, 'journal': 2443, 'apps': 269, 'intention': 2363, 'facial': 1603, 'someonea': 4103, 'someoneas': 4104, 'camp': 666, 'wet': 4859, 'underneath': 4662, 'plain': 3308, 'germani': 1881, 'germany': 1882, 'graphic': 1941, 'slice': 4041, 'vein': 4753, 'painkil': 3164, 'eh': 1420, 'painkillers': 3165, 'podcast': 3336, 'til': 4504, 'flash': 1721, 'whatnot': 4865, 'jack': 2419, 'meter': 2799, 'employe': 1447, 'sue': 4299, 'hmu': 2108, 'mini': 2829, 'wwwyoutubecomwatch': 4955, 'fleet': 1727, 'absorb': 32, 'ital': 2411, 'twenty': 4626, 'itall': 2412, 'bell': 457, 'fever': 1678, 'london': 2637, 'mild': 2816, 'pointi': 3340, 'worthi': 4934, 'worthy': 4938, 'bonk': 545, 'strain': 4236, 'gc': 1866, 'permit': 3253, 'station': 4206, 'valentin': 4740, 'slam': 4034, 'againi': 119, 'de': 1110, 'stretch': 4249, 'algebra': 149, 'eachoth': 1381, 'eachother': 1382, 'eternity': 1510, 'england': 1469, 'mat': 2729, 'latter': 2523, 'joe': 2437, 'russia': 3781, 'drum': 1362, 'guitar': 1984, 'satan': 3809, 'stepdad': 4215, 'convey': 954, 'abroad': 27, 'conserv': 924, 'neighborhood': 2957, 'conservative': 925, 'aaaa': 2, 'epic': 1487, 'aiam': 132, 'bastard': 415, 'diabet': 1217, 'aftermath': 115, 'labor': 2499, 'subway': 4290, 'cash': 692, 'silver': 3993, 'thighs': 4467, 'nicer': 2978, 'gen': 1869, 'structur': 4261, 'structure': 4262, 'lend': 2561, 'notif': 3019, 'filller': 1695, 'rabbit': 3547, 'beard': 428, 'poke': 3343, 'avatar': 349, 'paracetamol': 3179, 'scum': 3847, 'yt': 4993, 'commitment': 862, 'unwant': 4701, 'unwanted': 4702, 'fri': 1806, 'fry': 1823, 'shead': 3935, 'consent': 921, 'percent': 3239, 'rainbow': 3556, 'tolerate': 4530, 'meanwhil': 2752, 'meanwhile': 2753, 'smallest': 4058, 'bob': 535, 'befriend': 443, 'coin': 840, 'poll': 3351, 'reassur': 3603, 'marvel': 2721, 'mr': 2896, 'junk': 2457, 'bla': 506, 'helium': 2069, 'brown': 612, 'frame': 1790, 'nowaday': 3023, 'nowadays': 3024, 'stitch': 4222, 'optimist': 3106, 'nativ': 2929, 'optimistic': 3107, 'native': 2930, 'worsei': 4930, 'solo': 4092, 'nostalgia': 3011, 'sheall': 3936, 'barrel': 404, 'jk': 2434, 'pal': 3169, 'filter': 1697, 'deadlin': 1112, 'griev': 1958, 'shallow': 3926, 'grieve': 1959, 'river': 3742, 'phrase': 3273, 'amongst': 187, 'spoken': 4170, 'forth': 1778, 'sane': 3804, 'meltdown': 2776, 'sooni': 4119, 'rut': 3783, 'ms': 2897, 'scan': 3818, 'bachelor': 374, 'blm': 524, 'racism': 3549, 'infront': 2311, 'bawl': 422, 'japan': 2425, 'suspend': 4346, 'eve': 1516, 'hangout': 2010, 'na': 2914, 'mac': 2679, 'span': 4139, 'fathom': 1650, 'justic': 2458, 'justice': 2459, 'foreign': 1763, 'french': 1801, 'absent': 28, 'workout': 4924, 'ocean': 3058, 'identifi': 2218, 'extens': 1593, 'identify': 2219, 'surreal': 4337, 'clingi': 812, 'neighbor': 2956, 'wierd': 4890, 'enjoyment': 1473, 'everythingi': 1534, 'plug': 3331, 'brink': 604, 'clueless': 827, 'lover': 2661, 'canadian': 670, 'auto': 343, 'slash': 4036, 'boat': 534, 'frighten': 1816, 'discomfort': 1259, 'dysphoria': 1380, 'inevitably': 2301, 'idek': 2216, 'adapt': 77, 'wire': 4903, 'adjust': 85, 'undo': 4667, 'optional': 3109, 'emo': 1436, 'india': 2294, 'rail': 3554, 'seizur': 3870, 'psycho': 3492, 'brainwash': 581, 'gear': 1867, 'entitl': 1481, 'pale': 3170, 'entitle': 1482, 'cmon': 828, 'grace': 1923, 'grey': 1956, 'ni': 2976, 'visa': 4781, 'evict': 1539, 'feminist': 1676, 'yay': 4962, 'trace': 4563, 'logo': 2635, 'dammit': 1091, 'dentist': 1173, 'ace': 52, 'indian': 2295, 'awhat': 365, 'opt': 3105, 'alienate': 151, 'acc': 39, 'prick': 3426, 'outright': 3132, 'disregard': 1278, 'fourth': 1788, 'yknow': 4976, 'iv': 2418, 'que': 3531, 'al': 142, 'la': 2496, 'en': 1451, 'mar': 2711, 'grass': 1943, 'mi': 2807, 'vodka': 4786, 'chemistri': 744, 'chemistry': 745, 'flex': 1729, 'subreddits': 4286, 'pervert': 3262, 'japanes': 2426, 'japanese': 2427, 'outfit': 3127, 'mexico': 2803, 'alt': 167, 'shield': 3943, 'lexapro': 2574, 'aka': 141, 'backyard': 382, 'deaf': 1113, 'ahey': 130, 'absurd': 33, 'household': 2170, 'counsellor': 986, 'seeker': 3865, 'themself': 4446, 'itad': 2410, 'professionals': 3459, 'realistic': 3592, 'judgment': 2449, 'outlook': 3131, 'nearbi': 2939, 'nearby': 2940, 'gossip': 1915, 'inconvenience': 2284, 'formatpjpg': 1775, 'seal': 3850, 'walmart': 4805, 'weather': 4831, 'coat': 832, 'payment': 3215, 'dissapoint': 1280, 'aight': 135, 'tag': 4370, 'realm': 3600, 'cherish': 746, 'euthanasia': 1515, 'mg': 2806, 'anorexia': 207, 'crave': 1020, 'boil': 539, 'homo': 2126, 'mins': 2833, 'generation': 1875, 'bio': 492, 'behav': 448, 'observ': 3046, 'exploit': 1586, 'behave': 449, 'bias': 479, 'interrupt': 2373, 'heartbeat': 2054, 'tour': 4555, 'prob': 3444, 'uwu': 4732, 'fog': 1747, 'poster': 3373, 'california': 661, 'favour': 1655, 'york': 4978, 'bench': 461, 'wallet': 4803, 'impulse': 2268, 'frienda': 1810, 'donald': 1308, 'creator': 1029, 'depriv': 1182, 'dealer': 1115, 'vid': 4765, 'trough': 4602, 'deed': 1141, 'biology': 495, 'physics': 3277, 'clip': 815, 'medit': 2770, 'coach': 830, 'cereal': 712, 'ab': 19, 'hype': 2198, 'norm': 3006, 'dip': 1236, 'rice': 3730, 'arrang': 281, 'seemingli': 3867, 'seemingly': 3868, 'hoe': 2112, 'xd': 4958, 'boredom': 556, 'vice': 4763, 'rsuicidewatch': 3771, 'compel': 875, 'style': 4278, 'vape': 4748, 'contest': 943, 'bleak': 517, 'tonighti': 4538, 'warmth': 4811, 'ping': 3294, 'peanut': 3223, 'makeup': 2693, 'furry': 1842, 'maths': 2735, 'larger': 2516, 'florida': 1737, 'brick': 596, 'oof': 3091, 'hopeful': 2141, 'audio': 335, 'speaker': 4144, 'merri': 2790, 'merry': 2791, 'lgbtq': 2576, 'layer': 2531, 'cocktail': 834, 'trivial': 4598, 'flashback': 1722, 'flashbacks': 1723, 'equip': 1492, 'ia': 2201, 'lifelong': 2589, 'iii': 2229, 'betteri': 475, 'gamers': 1852, 'chick': 749, 'reckless': 3611, 'drawer': 1345, 'aaaaaaaaaaaaaaa': 12, 'aaaaaaaaaa': 8, 'aaaaaaaaa': 7, 'thick': 4465, 'vivid': 4785, 'lmfao': 2621, 'nonetheless': 2997, 'grad': 1924, 'redact': 3622, 'yep': 4971, 'default': 1148, 'instal': 2342, 'compass': 873, 'tail': 4371, 'van': 4746, 'tower': 4559, 'spine': 4162, 'bum': 637, 'skate': 4021, 'pilot': 3292, 'specialist': 4147, 'cage': 659, 'knive': 2487, 'knives': 2488, 'fraud': 1794, 'bay': 423, 'rub': 3774, 'plant': 3312, 'beast': 429, 'raw': 3579, 'begun': 447, 'mario': 2714, 'hw': 2197, 'hahaha': 1994, 'tuition': 4615, 'fallout': 1623, 'rack': 3551, 'spous': 4177, 'towel': 4558, 'unlock': 4692, 'obes': 3042, 'scissor': 3835, 'spoon': 4172, 'coz': 1013, 'et': 1506, 'ears': 1388, 'eras': 1494, 'pan': 3171, 'erase': 1495, 'lifeless': 2588, 'novel': 3020, 'concert': 896, 'lad': 2501, 'hardship': 2026, 'shitpost': 3949, 'skateboard': 4022, 'phobia': 3269, 'stutter': 4277, 'ck': 792, 'thee': 4444, 'squar': 4181, 'square': 4182, 'muslim': 2907, 'filer': 1690, 'alter': 168, 'alivei': 154, 'fucker': 1825, 'vet': 4760, 'client': 808, 'chungu': 778, 'chungus': 779, 'basketbal': 413, 'basketball': 414, 'nigga': 2980, 'farther': 1642, 'roller': 3752, 'distress': 1288, 'nazi': 2936, 'garlic': 1860, 'echo': 1401, 'loyal': 2666, 'obama': 3041, 'hitler': 2107, 'poo': 3353, 'russian': 3782, 'microsoft': 2809, 'coffin': 839, 'fifteen': 1684, 'bark': 403, 'prayer': 3394, 'spongebob': 4171, 'fillerfil': 1693, 'fillerfiller': 1694, 'overnight': 3146, 'underweight': 4666, 'quest': 3533, 'manga': 2701, 'crew': 1035, 'afriendsa': 112, 'corn': 966, 'uu': 4731, 'cabinet': 658, 'iiiii': 2231, 'iiiiii': 2232, 'aaaaaaaaaaaaaaaaa': 14, 'iiii': 2230, 'spain': 4137, 'owo': 3156, 'thou': 4474, 'aaaaaaaaaaaaaaaa': 13, 'nerf': 2962, 'gn': 1898, 'vegan': 4752, 'ba': 371, 'aaaaaaaaaaa': 9, 'tom': 4532, 'aaaaaaaaaaaaaaaaaa': 15, 'ben': 460, 'aaaaaaaaaaaaaa': 11, 'iiiiiii': 2233, 'chap': 726, 'aaaaaaaaaaaaaaaaaaaaaaaaa': 17, 'iiiiiiii': 2234, 'iiiiiiiiiii': 2235, 'dubstep': 1366, 'nowdrink': 3025, 'cecil': 705, 'discochocol': 1257, 'discochocolate': 1258, 'nothina': 3014, 'demoknight': 1168}\n"
     ]
    }
   ],
   "source": [
    "print(Tfidf_vect.vocabulary_)"
   ]
  },
  {
   "cell_type": "code",
   "execution_count": 36,
   "id": "551937a6",
   "metadata": {},
   "outputs": [
    {
     "name": "stdout",
     "output_type": "stream",
     "text": [
      "  (0, 4562)\t0.45093793146870187\n",
      "  (0, 4471)\t0.14678960756934684\n",
      "  (0, 4372)\t0.1798729725032422\n",
      "  (0, 4315)\t0.4313119747617264\n",
      "  (0, 3915)\t0.32297113944546607\n",
      "  (0, 1909)\t0.1898892323464896\n",
      "  (0, 1899)\t0.38579004740347367\n",
      "  (0, 1809)\t0.332392612253166\n",
      "  (0, 817)\t0.2574855377712115\n",
      "  (0, 655)\t0.30122682196166306\n",
      "  (1, 4968)\t0.09718812086473229\n",
      "  (1, 4966)\t0.08523539611971126\n",
      "  (1, 4946)\t0.1449203335060185\n",
      "  (1, 4939)\t0.05360302562568395\n",
      "  (1, 4911)\t0.16080926051662991\n",
      "  (1, 4853)\t0.0756226819238418\n",
      "  (1, 4807)\t0.08479103471981013\n",
      "  (1, 4801)\t0.09629198209677929\n",
      "  (1, 4610)\t0.02855896304511645\n",
      "  (1, 4593)\t0.028556913229590884\n",
      "  (1, 4516)\t0.05826639810033224\n",
      "  (1, 4515)\t0.058280736289481876\n",
      "  (1, 4506)\t0.052534420872708244\n",
      "  (1, 4485)\t0.1059282999608131\n",
      "  (1, 4471)\t0.09879111659295678\n",
      "  :\t:\n",
      "  (136988, 1843)\t0.10822852943441784\n",
      "  (136988, 1699)\t0.10113959546450281\n",
      "  (136988, 1698)\t0.0964265503465987\n",
      "  (136988, 1668)\t0.11057301313672795\n",
      "  (136988, 1517)\t0.1272210219866166\n",
      "  (136988, 1474)\t0.17889950885300587\n",
      "  (136988, 1464)\t0.26582191789159665\n",
      "  (136988, 1463)\t0.2655728176223526\n",
      "  (136988, 1311)\t0.09014036857721891\n",
      "  (136988, 1298)\t0.09008585030202687\n",
      "  (136988, 927)\t0.11247448150615856\n",
      "  (136988, 926)\t0.11361305997857098\n",
      "  (136988, 907)\t0.14926410500684548\n",
      "  (136988, 905)\t0.13454591028883317\n",
      "  (136988, 226)\t0.07543377307381428\n",
      "  (136988, 225)\t0.07539584737666245\n",
      "  (136988, 157)\t0.19557420549475557\n",
      "  (136988, 74)\t0.09127603184931478\n",
      "  (136988, 73)\t0.08888153340892407\n",
      "  (136989, 4807)\t0.2512067185421647\n",
      "  (136989, 4721)\t0.6500669908748353\n",
      "  (136989, 3948)\t0.41735705430831777\n",
      "  (136989, 3286)\t0.31712948092856974\n",
      "  (136989, 3285)\t0.31711136480141433\n",
      "  (136989, 1456)\t0.37281423764799904\n"
     ]
    }
   ],
   "source": [
    "print(Train_X_Tfidf)"
   ]
  },
  {
   "cell_type": "code",
   "execution_count": null,
   "id": "f1fcea1b",
   "metadata": {},
   "outputs": [],
   "source": [
    "SVM = svm.SVC(C=1.0, kernel='linear', degree=3, gamma='auto')\n",
    "SVM.fit(Train_X_Tfidf,Train_Y)\n",
    "predictions_SVM = SVM.predict(Test_X_Tfidf)\n",
    "print(\"SVM Accuracy Score -> \",accuracy_score(predictions_SVM, Test_Y)*100)"
   ]
  },
  {
   "cell_type": "code",
   "execution_count": null,
   "id": "dbcf0b36",
   "metadata": {},
   "outputs": [],
   "source": [
    "confusion_matrix(Test_Y, predictions_SVM)"
   ]
  },
  {
   "cell_type": "code",
   "execution_count": null,
   "id": "ddb124a4",
   "metadata": {},
   "outputs": [],
   "source": [
    "plot_confusion_matrix(SVM, Test_X, Test_Y)  \n",
    "plt.show() "
   ]
  },
  {
   "cell_type": "code",
   "execution_count": null,
   "id": "fbf44a20",
   "metadata": {},
   "outputs": [],
   "source": [
    "print(classification_report(Test_Y, predictions_SVM))"
   ]
  },
  {
   "cell_type": "markdown",
   "id": "903eabe2",
   "metadata": {},
   "source": [
    "### Grid Search"
   ]
  },
  {
   "cell_type": "code",
   "execution_count": null,
   "id": "176d5132",
   "metadata": {},
   "outputs": [],
   "source": [
    ">>> from sklearn.model_selection import GridSearchCV\n",
    ">>> parameters_svm = {'vect__ngram_range': [(1, 1), (1, 2)],\n",
    "...               'tfidf__use_idf': (True, False),\n",
    "...               'clf-svm__alpha': (1e-2, 1e-3),\n",
    "... }\n",
    "gs_clf_svm = GridSearchCV(SVM, parameters_svm, n_jobs=-1)\n",
    "gs_clf_svm = gs_clf_svm.fit(twenty_train.data, twenty_train.target)\n",
    "gs_clf_svm.best_score_\n",
    "gs_clf_svm.best_params_"
   ]
  }
 ],
 "metadata": {
  "kernelspec": {
   "display_name": "Python 3 (ipykernel)",
   "language": "python",
   "name": "python3"
  },
  "language_info": {
   "codemirror_mode": {
    "name": "ipython",
    "version": 3
   },
   "file_extension": ".py",
   "mimetype": "text/x-python",
   "name": "python",
   "nbconvert_exporter": "python",
   "pygments_lexer": "ipython3",
   "version": "3.9.12"
  }
 },
 "nbformat": 4,
 "nbformat_minor": 5
}
